{
 "cells": [
  {
   "cell_type": "code",
   "execution_count": 1,
   "id": "1cdf689f",
   "metadata": {},
   "outputs": [],
   "source": [
    "import numpy as np\n",
    "import pandas as pd\n",
    "from scipy.stats import ortho_group\n",
    "from procrustes import orthogonal\n",
    "from procrustes import orthogonal_2sided\n",
    "import cv2 as cv2\n",
    "import matplotlib.pyplot as plt"
   ]
  },
  {
   "cell_type": "code",
   "execution_count": 2,
   "id": "6742d39f",
   "metadata": {},
   "outputs": [],
   "source": [
    "# Fly wings example (Klingenberg, 2015 | https://en.wikipedia.org/wiki/Procrustes_analysis)\n",
    "arr1 = np.array([[588.0, 443.0], [178.0, 443.0], [56.0, 436.0], [50.0, 376.0], [129.0, 360.0], [15.0, 342.0], [92.0, 293.0], [79.0, 269.0], [276.0, 295.0], [281.0, 331.0], [785.0, 260.0], [754.0, 174.0], [405.0, 233.0], [386.0, 167.0], [466.0, 59.0]])\n",
    "arr2 = np.array([[477.0, 557.0], [130.129, 374.307], [52.0, 334.0], [67.662, 306.953], [111.916, 323.0], [55.119, 275.854], [107.935, 277.723], [101.899, 259.73], [175.0, 329.0], [171.0, 345.0], [589.0, 527.0], [591.0, 468.0], [299.0, 363.0], [306.0, 317.0], [406.0, 288.0]])"
   ]
  },
  {
   "cell_type": "code",
   "execution_count": 3,
   "id": "feb5b9da",
   "metadata": {},
   "outputs": [
    {
     "data": {
      "text/plain": [
       "<matplotlib.collections.PathCollection at 0x7f2cc4b37b70>"
      ]
     },
     "execution_count": 3,
     "metadata": {},
     "output_type": "execute_result"
    },
    {
     "data": {
      "image/png": "[encoded data removed]",
      "text/plain": [
       "<Figure size 432x288 with 1 Axes>"
      ]
     },
     "metadata": {
      "needs_background": "light"
     },
     "output_type": "display_data"
    }
   ],
   "source": [
    "plt.scatter(arr1[:,0], arr1[:,1], c = 'red')\n",
    "plt.scatter(arr2[:,0], arr2[:,1], c = 'blue')"
   ]
  },
  {
   "cell_type": "code",
   "execution_count": 4,
   "id": "c9374c19",
   "metadata": {},
   "outputs": [],
   "source": [
    "# orthogonal Procrustes analysis with translation\n",
    "result = orthogonal(arr1, arr2, scale=False, translate=False)"
   ]
  },
  {
   "cell_type": "code",
   "execution_count": 5,
   "id": "ff35ff4f",
   "metadata": {},
   "outputs": [
    {
     "data": {
      "text/plain": [
       " error: 163892.47950113835\n",
       " new_a: array([[588., 443.],\n",
       "       [178., 443.],\n",
       "       [ 56., 436.],\n",
       "       [ 50., 376.],\n",
       "       [129., 360.],\n",
       "       [ 15., 342.],\n",
       "       [ 92., 293.],\n",
       "       [ 79., 269.],\n",
       "       [276., 295.],\n",
       "       [281., 331.],\n",
       "       [785., 260.],\n",
       "       [754., 174.],\n",
       "       [405., 233.],\n",
       "       [386., 167.],\n",
       "       [466.,  59.]])\n",
       " new_b: array([[477.   , 557.   ],\n",
       "       [130.129, 374.307],\n",
       "       [ 52.   , 334.   ],\n",
       "       [ 67.662, 306.953],\n",
       "       [111.916, 323.   ],\n",
       "       [ 55.119, 275.854],\n",
       "       [107.935, 277.723],\n",
       "       [101.899, 259.73 ],\n",
       "       [175.   , 329.   ],\n",
       "       [171.   , 345.   ],\n",
       "       [589.   , 527.   ],\n",
       "       [591.   , 468.   ],\n",
       "       [299.   , 363.   ],\n",
       "       [306.   , 317.   ],\n",
       "       [406.   , 288.   ]])\n",
       "     s: None\n",
       "     t: array([[ 0.96420467,  0.2651591 ],\n",
       "       [-0.2651591 ,  0.96420467]])"
      ]
     },
     "execution_count": 5,
     "metadata": {},
     "output_type": "execute_result"
    }
   ],
   "source": [
    "result"
   ]
  },
  {
   "cell_type": "code",
   "execution_count": 6,
   "id": "b2b0d196",
   "metadata": {},
   "outputs": [
    {
     "data": {
      "text/plain": [
       "array([[449.4868673 , 583.05622038],\n",
       "       [ 54.16295117, 474.34098992],\n",
       "       [-61.61390531, 435.24214717],\n",
       "       [-51.48958743, 375.79891217],\n",
       "       [ 28.92512736, 381.31920619],\n",
       "       [-76.22134164, 333.73538482],\n",
       "       [ 11.01521405, 306.90660641],\n",
       "       [  4.84437166, 280.31862597],\n",
       "       [187.89855578, 357.62428992],\n",
       "       [183.17385159, 393.66145365],\n",
       "       [687.95930304, 458.84310757],\n",
       "       [680.87264065, 367.70157359],\n",
       "       [328.72082277, 332.04912389],\n",
       "       [327.90143449, 263.37359256],\n",
       "       [433.67499103, 180.45221572]])"
      ]
     },
     "execution_count": 6,
     "metadata": {},
     "output_type": "execute_result"
    }
   ],
   "source": [
    "transformed_matrix_2 = np.dot(result.new_a, result.t)\n",
    "transformed_matrix_2"
   ]
  },
  {
   "cell_type": "code",
   "execution_count": 7,
   "id": "04d4dada",
   "metadata": {},
   "outputs": [
    {
     "data": {
      "text/plain": [
       "array([[ 0.96420467,  0.2651591 ,  0.        ],\n",
       "       [-0.2651591 ,  0.96420467,  0.        ],\n",
       "       [ 0.        ,  0.        ,  0.        ]])"
      ]
     },
     "execution_count": 7,
     "metadata": {},
     "output_type": "execute_result"
    }
   ],
   "source": [
    "rot = result.t\n",
    "z = np.zeros((2,1))\n",
    "rot = np.append(rot, z, axis = 1) \n",
    "rot = np.append(rot, [[0,0,0]], axis=0)\n",
    "# rot = np.append(rot, [[0,0,0]], axis = 1)\n",
    "rot"
   ]
  },
  {
   "cell_type": "code",
   "execution_count": 8,
   "id": "a668863a",
   "metadata": {},
   "outputs": [],
   "source": [
    "from scipy.spatial.transform import Rotation   \n",
    "\n",
    "## first transform the matrix to euler angles\n",
    "r =  Rotation.from_matrix(rot)\n",
    "angles = r.as_euler(\"zyx\",degrees=True)"
   ]
  },
  {
   "cell_type": "code",
   "execution_count": 9,
   "id": "385fa1b6",
   "metadata": {},
   "outputs": [
    {
     "data": {
      "text/plain": [
       "array([-20.52938475,   0.        ,   0.        ])"
      ]
     },
     "execution_count": 9,
     "metadata": {},
     "output_type": "execute_result"
    }
   ],
   "source": [
    "angles"
   ]
  },
  {
   "cell_type": "code",
   "execution_count": 10,
   "id": "0a132505",
   "metadata": {},
   "outputs": [
    {
     "data": {
      "text/plain": [
       "<matplotlib.collections.PathCollection at 0x7f2cc4a42f98>"
      ]
     },
     "execution_count": 10,
     "metadata": {},
     "output_type": "execute_result"
    },
    {
     "data": {
      "image/png": "[encoded data removed]",
      "text/plain": [
       "<Figure size 432x288 with 1 Axes>"
      ]
     },
     "metadata": {
      "needs_background": "light"
     },
     "output_type": "display_data"
    }
   ],
   "source": [
    "import matplotlib.pyplot as plt\n",
    "plt.scatter(result.new_b[:,0], result.new_b[:,1], c='red')\n",
    "plt.scatter(transformed_matrix_2[:,0], transformed_matrix_2[:,1], c= 'blue', alpha = 0.5)"
   ]
  },
  {
   "cell_type": "code",
   "execution_count": null,
   "id": "27a033f8",
   "metadata": {},
   "outputs": [],
   "source": []
  }
 ],
 "metadata": {
  "kernelspec": {
   "display_name": "Python [conda env:procrustes]",
   "language": "python",
   "name": "conda-env-procrustes-py"
  },
  "language_info": {
   "codemirror_mode": {
    "name": "ipython",
    "version": 3
   },
   "file_extension": ".py",
   "mimetype": "text/x-python",
   "name": "python",
   "nbconvert_exporter": "python",
   "pygments_lexer": "ipython3",
   "version": "3.6.13"
  }
 },
 "nbformat": 4,
 "nbformat_minor": 5
}
