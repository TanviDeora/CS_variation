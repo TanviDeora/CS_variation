{
 "cells": [
  {
   "cell_type": "code",
   "execution_count": 1,
   "id": "d3213e8a",
   "metadata": {},
   "outputs": [],
   "source": [
    "import numpy as np\n",
    "import pandas as pd\n",
    "import glob\n",
    "import os"
   ]
  },
  {
   "cell_type": "code",
   "execution_count": 2,
   "id": "9c888907",
   "metadata": {},
   "outputs": [],
   "source": [
    "def GetXYPosND2File(filepath):\n",
    "\n",
    "    from nd2reader import ND2Reader\n",
    "    from nd2reader.raw_metadata import RawMetadata\n",
    "\n",
    "    # get label map\n",
    "    with ND2Reader(filepath) as images:\n",
    "        mp = images._parser._label_map\n",
    "\n",
    "    fh = open(filepath , 'rb')\n",
    "    y = RawMetadata(fh, mp).y_data\n",
    "    x = RawMetadata(fh, mp).x_data\n",
    "\n",
    "    # get the unique values\n",
    "    NumZStacks = np.max(images.metadata['z_levels']) + 1\n",
    "    unique_x = x[0:len(x):NumZStacks]\n",
    "    unique_y = y[0:len(y):NumZStacks]\n",
    "\n",
    "    # check if you have the right number of locations\n",
    "    filename = os.path.basename(filepath)\n",
    "\n",
    "    NumLocations = np.max(images.metadata['fields_of_view']) + 1\n",
    "    print('%s has total of %d CS positions' %(filename, NumLocations))\n",
    "\n",
    "    if NumLocations != len(unique_x):\n",
    "        print('number of unique x locations do not match total number of CS location')\n",
    "    if NumLocations != len(unique_y):\n",
    "        print('number of unique x locations do not match total number of CS location')\n",
    "        \n",
    "    return(unique_x, unique_y)"
   ]
  },
  {
   "cell_type": "markdown",
   "id": "617c11f0",
   "metadata": {},
   "source": [
    "### for multiple image stack"
   ]
  },
  {
   "cell_type": "code",
   "execution_count": 3,
   "id": "bb085646",
   "metadata": {},
   "outputs": [],
   "source": [
    "outpath = r\"./dataFolder/Analysis/\""
   ]
  },
  {
   "cell_type": "code",
   "execution_count": 4,
   "id": "386a72dc",
   "metadata": {},
   "outputs": [],
   "source": [
    "input_location = r\"D:/Wing Imaging/\""
   ]
  },
  {
   "cell_type": "code",
   "execution_count": 5,
   "id": "a22d476b",
   "metadata": {},
   "outputs": [],
   "source": [
    "# list of folders & filename \n",
    "# MyList = [('2021_09_16','m2_ventFW_all.nd2'),\n",
    "#                       ('2021_09_17','M2_dorsFW_*_*.nd2'),\n",
    "#                       ('2021_09_22','m3_dorsHW_allpoints.nd2'),\n",
    "#                       ('2021_09_22', 'm3_ventHW_allpoints.nd2'),\n",
    "#                       ('2021_10_16', 'm4_dorsHW_allpoints.nd2'),\n",
    "#                       ('2021_10_16', 'm4_ventHW_allpoints.nd2')]\n",
    "\n",
    "# MyList = [\n",
    "#     ('2021_11_16','m6_ventFW_allpoints.nd2'),\n",
    "#     ('2021_11_21','m6_dorsFW_allpoints.nd2'),\n",
    "#     ('2021_11_30','m7_dorsFW_*_*.nd2'),\n",
    "#     ('2021_12_07', 'M7_ventFW_allpoints.nd2'),\n",
    "#     ('2021_12_12', 'm8_dorsFW_allpoints.nd2'),\n",
    "#     ]\n",
    "\n",
    "MyList = [\n",
    "    ('2021_12_17', 'm8_ventFW_allpoints.nd2')\n",
    "         ]"
   ]
  },
  {
   "cell_type": "code",
   "execution_count": 6,
   "id": "3ad73c2c",
   "metadata": {},
   "outputs": [
    {
     "name": "stdout",
     "output_type": "stream",
     "text": [
      "['D:/Wing Imaging/2021_12_17/m8_ventFW_allpoints.nd2']\n",
      "m8_ventFW_allpoints.nd2 has total of 31 CS positions\n"
     ]
    }
   ],
   "source": [
    "for folder, filename in MyList:\n",
    "    filepath = glob.glob(input_location + folder + '/' + filename)\n",
    "    print(filepath)\n",
    "    \n",
    "    for f in filepath:\n",
    "        x, y = GetXYPosND2File(f)\n",
    "\n",
    "        df = pd.DataFrame({'x_highRes': x,\n",
    "                         'y_highRes': y})\n",
    "        name = os.path.basename(f)\n",
    "        df.to_csv(outpath + name[:-4] + '.csv', index = False)"
   ]
  },
  {
   "cell_type": "markdown",
   "id": "fd7aab60",
   "metadata": {},
   "source": [
    "## use the following code"
   ]
  },
  {
   "cell_type": "markdown",
   "id": "46634cfc",
   "metadata": {},
   "source": [
    "### for single image stack"
   ]
  },
  {
   "cell_type": "code",
   "execution_count": null,
   "id": "f7040eda",
   "metadata": {},
   "outputs": [],
   "source": [
    "def getXYPos(path):\n",
    "    from nd2reader import ND2Reader\n",
    "    from nd2reader.raw_metadata import RawMetadata\n",
    "    \n",
    "    # get label map\n",
    "    with ND2Reader(location + filename) as images:\n",
    "        mp = images._parser._label_map\n",
    "    \n",
    "    fh = open(path, 'rb')\n",
    "    y = RawMetadata(fh, mp).y_data\n",
    "    x = RawMetadata(fh, mp).x_data\n",
    "    \n",
    "    mean_y = np.mean(y)\n",
    "    mean_x = np.mean(x)\n",
    "    \n",
    "    return(mean_x, mean_y)"
   ]
  },
  {
   "cell_type": "code",
   "execution_count": null,
   "id": "9c0f4ee5",
   "metadata": {},
   "outputs": [],
   "source": [
    "location = r\"D:/Wing Imaging/2021_08_11/\"\n",
    "filename = 'M1_ventFW_M1_1.nd2'"
   ]
  },
  {
   "cell_type": "code",
   "execution_count": null,
   "id": "3390cb06",
   "metadata": {},
   "outputs": [],
   "source": [
    "x, y = getXYPos(location + filename)"
   ]
  }
 ],
 "metadata": {
  "kernelspec": {
   "display_name": "Python 3",
   "language": "python",
   "name": "python3"
  },
  "language_info": {
   "codemirror_mode": {
    "name": "ipython",
    "version": 3
   },
   "file_extension": ".py",
   "mimetype": "text/x-python",
   "name": "python",
   "nbconvert_exporter": "python",
   "pygments_lexer": "ipython3",
   "version": "3.6.5"
  }
 },
 "nbformat": 4,
 "nbformat_minor": 5
}
