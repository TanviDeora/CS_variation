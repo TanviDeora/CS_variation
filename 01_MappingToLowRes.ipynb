{
 "cells": [
  {
   "cell_type": "code",
   "execution_count": 14,
   "id": "91de4635",
   "metadata": {},
   "outputs": [],
   "source": [
    "import numpy as np\n",
    "import pandas as pd\n",
    "import glob"
   ]
  },
  {
   "cell_type": "code",
   "execution_count": 15,
   "id": "6c566768",
   "metadata": {},
   "outputs": [],
   "source": [
    "def convertToPixel_LowRes(zoomout_Stagex, zoomout_Stagey, centerPixel_x, centerPixel_y, dXpos, dYpos, pixel_resolution):\n",
    "    import numpy as np\n",
    "    \n",
    "    delStage_x = zoomout_Stagex - dXpos\n",
    "    delStage_y = zoomout_Stagey - dYpos\n",
    "\n",
    "    delPixel_x = delStage_x*pixel_resolution\n",
    "    delPixel_y = delStage_y*pixel_resolution\n",
    "\n",
    "    pix_x = int(np.round(centerPixel_x + delPixel_x))\n",
    "    pix_y = int(np.round(centerPixel_y - delPixel_y)) # subtract it because the y axis is inverted!\n",
    "#     pix_x = int(np.round(centerPixel_x/dXpos * glob_x))\n",
    "#     pix_y = int(np.round(centerPixel_y/dYpos * glob_y))\n",
    "    return(pix_x, pix_y)"
   ]
  },
  {
   "cell_type": "code",
   "execution_count": 16,
   "id": "a3872c56",
   "metadata": {},
   "outputs": [],
   "source": [
    "def getXYPosSingle(path):\n",
    "    ## this returns position for single images\n",
    "    from nd2reader import ND2Reader\n",
    "    from nd2reader.raw_metadata import RawMetadata\n",
    "    \n",
    "    # get label map\n",
    "    with ND2Reader(path) as images:\n",
    "        mp = images._parser._label_map\n",
    "    \n",
    "    fh = open(path, 'rb')\n",
    "    y = RawMetadata(fh, mp).y_data\n",
    "    x = RawMetadata(fh, mp).x_data\n",
    "    \n",
    "    mean_y = np.mean(y)\n",
    "    mean_x = np.mean(x)\n",
    "    \n",
    "    if images.metadata['fields_of_view'][0] > 0:\n",
    "        print('check input file')\n",
    "    \n",
    "    return(mean_x, mean_y)"
   ]
  },
  {
   "cell_type": "code",
   "execution_count": 17,
   "id": "697731fb",
   "metadata": {},
   "outputs": [],
   "source": [
    "def getCenterPixel(path):\n",
    "    from nd2reader import ND2Reader\n",
    "    # assuming the x and y coordinates of a single image in the metaData\n",
    "    # corresponds to the middle of the frame: read SizeX, SizeY\n",
    "    with ND2Reader(path) as images:\n",
    "        num_pixel_x = images.metadata['width']\n",
    "        num_pixel_y = images.metadata['height']\n",
    "\n",
    "    c_x = num_pixel_x/2\n",
    "    c_y = num_pixel_y/2\n",
    "    return(c_x, c_y)"
   ]
  },
  {
   "cell_type": "code",
   "execution_count": 18,
   "id": "2851c59e",
   "metadata": {},
   "outputs": [],
   "source": [
    "resolution = 0.6154 # in pixels/micron"
   ]
  },
  {
   "cell_type": "markdown",
   "id": "05660ead",
   "metadata": {},
   "source": [
    "### Pick the file to analyze and input the offset values"
   ]
  },
  {
   "cell_type": "code",
   "execution_count": 19,
   "id": "85b768c4",
   "metadata": {},
   "outputs": [],
   "source": [
    "# position of CS in microns from the file created in previous Step - \"00_ReadHeaderAndMakeList\"\n",
    "input_location = r\"../../../../data2/users/tanvid2/CS_imaging_project/Wing_Imaging/\"\n",
    "locationAnalysisData = './dataFolder/Analysis/'"
   ]
  },
  {
   "cell_type": "markdown",
   "id": "11aebf06",
   "metadata": {},
   "source": [
    "### input the folder and filename for all full wing images"
   ]
  },
  {
   "cell_type": "code",
   "execution_count": 20,
   "id": "00e117c5",
   "metadata": {},
   "outputs": [],
   "source": [
    "# list of folders & filename \n",
    "# MyList = [('2021_09_16','m2_ventFW_full.nd2'),\n",
    "#                       ('2021_09_17','M2_dorsFW_full.nd2'),\n",
    "#                       ('2021_09_22','m3_dorsHW_full.nd2'),\n",
    "#                       ('2021_09_22', 'm3_ventHW_full.nd2'),\n",
    "#                       ('2021_10_16', 'm4_dorsHW_full.nd2'),\n",
    "#                       ('2021_10_16', 'm4_ventHW_full.nd2')]\n",
    "\n",
    "MyList = [\n",
    "#     ('2022_08_05', 'm11_dorsHW_full.nd2'),\n",
    "#     ('2022_08_05', 'm11_ventHW_full.nd2'),\n",
    "#     ('2022_08_05', 'm11_ventHW_full.nd2'),\n",
    "    ('2022_08_01', 'm13right_dorsHW_full.nd2'),\n",
    "#     ('2022_08_01_Laila', 'm13right_ventHW_full.nd2'),\n",
    "        ]"
   ]
  },
  {
   "cell_type": "code",
   "execution_count": 21,
   "id": "898c38b8",
   "metadata": {},
   "outputs": [
    {
     "data": {
      "text/plain": [
       "('2022_08_01', 'm13right_dorsHW_full.nd2')"
      ]
     },
     "execution_count": 21,
     "metadata": {},
     "output_type": "execute_result"
    }
   ],
   "source": [
    "MyList[0][0], MyList[0][1]"
   ]
  },
  {
   "cell_type": "markdown",
   "id": "6b6d357b",
   "metadata": {},
   "source": [
    "## run the rest of the lines for all the files"
   ]
  },
  {
   "cell_type": "code",
   "execution_count": 22,
   "id": "72f7a101",
   "metadata": {},
   "outputs": [],
   "source": [
    "ind = 0"
   ]
  },
  {
   "cell_type": "code",
   "execution_count": 23,
   "id": "9efe202e",
   "metadata": {},
   "outputs": [],
   "source": [
    "locationImageData = input_location + MyList[ind][0] + '/'\n",
    "filename = MyList[ind][1]"
   ]
  },
  {
   "cell_type": "markdown",
   "id": "a5eea8bd",
   "metadata": {},
   "source": [
    "### read image to confirm if the offset has changed"
   ]
  },
  {
   "cell_type": "code",
   "execution_count": 24,
   "id": "671ba2f1",
   "metadata": {},
   "outputs": [
    {
     "data": {
      "text/plain": [
       "<matplotlib.image.AxesImage at 0x7f5493250860>"
      ]
     },
     "execution_count": 24,
     "metadata": {},
     "output_type": "execute_result"
    },
    {
     "data": {
      "image/png": "[encoded data removed]",
      "text/plain": [
       "<Figure size 432x288 with 1 Axes>"
      ]
     },
     "metadata": {
      "needs_background": "light"
     },
     "output_type": "display_data"
    }
   ],
   "source": [
    "import cv2 as cv2\n",
    "import matplotlib.pyplot as plt\n",
    "\n",
    "img = cv2.imread(input_location + '/' + MyList[0][0] + '/' + MyList[0][1][:-9] + '_offset.png')\n",
    "plt.imshow(img)"
   ]
  },
  {
   "cell_type": "code",
   "execution_count": 25,
   "id": "f7eafd35",
   "metadata": {},
   "outputs": [],
   "source": [
    "offset_x = 6.5\n",
    "offset_y = -44.7"
   ]
  },
  {
   "cell_type": "markdown",
   "id": "df5c862e",
   "metadata": {},
   "source": [
    "### if it has changed then input the offset values using following code"
   ]
  },
  {
   "cell_type": "code",
   "execution_count": 26,
   "id": "f1a9dcf5",
   "metadata": {},
   "outputs": [],
   "source": [
    "## get the offset values \n",
    "## - commented out right now because offset values are the same across all days\n",
    "## if offset value doesn't match then uncomment and run this cell\n",
    "\n",
    "# offset_x = None\n",
    "# while offset_x is None:\n",
    "#     try:\n",
    "#         offset_x = float(input(\"Enter the offset for x axis, in microns): \"))\n",
    "#     except ValueError:\n",
    "#         print(\"Not an integer value...\")\n",
    "\n",
    "# offset_y = None\n",
    "# while offset_y is None:\n",
    "#     try:\n",
    "#         offset_y = float(input(\"Enter the offset for y axis, in microns: \"))\n",
    "#     except ValueError:\n",
    "#         print(\"Not an integer value...\")\n",
    "\n",
    "# print('offset for x and y is %.3f & %.3f microns respectively' %(offset_x, offset_y))"
   ]
  },
  {
   "cell_type": "code",
   "execution_count": 27,
   "id": "9321216c",
   "metadata": {},
   "outputs": [],
   "source": [
    "### get information from the full image at 4X\n",
    "centerPixel_x,centerPixel_y = getCenterPixel(locationImageData + filename)\n",
    "zoom_out_dXpos, zoom_out_dYpos = getXYPosSingle(locationImageData + filename)\n",
    "\n",
    "### get the list of points in 10X that need to be transformed\n",
    "moth, side, _ = filename.split('_')\n",
    "path = glob.glob(locationAnalysisData + moth + '_' + side + '_al*.csv')[0]\n",
    "df = pd.read_csv(path)\n",
    "\n",
    "### transform away!\n",
    "fullW_x = []\n",
    "fullW_y = []\n",
    "\n",
    "for index, row in df.iterrows():\n",
    "# for x, y in :\n",
    "    new_x = row['x_highRes'] - offset_x\n",
    "    new_y = row['y_highRes'] - offset_y\n",
    "\n",
    "    zoomOut_pix_x, zoomOut_pix_y = convertToPixel_LowRes(zoom_out_dXpos, zoom_out_dYpos,\n",
    "                                                     centerPixel_x, centerPixel_y,   \n",
    "                                                     new_x, new_y, \n",
    "                                                     resolution)\n",
    "    fullW_x.append(zoomOut_pix_x)\n",
    "    fullW_y.append(zoomOut_pix_y)\n",
    "\n",
    "# save in the same dataframe and export\n",
    "df['zoomOut_x(Pixel)'] = fullW_x\n",
    "df['zoomOut_y(Pixel)'] = fullW_y\n",
    "df.to_csv(locationAnalysisData + moth + '_' + side + '_zoomOut.csv', index = False)"
   ]
  },
  {
   "cell_type": "code",
   "execution_count": 28,
   "id": "ac07cff1",
   "metadata": {},
   "outputs": [
    {
     "data": {
      "text/plain": [
       "[<matplotlib.lines.Line2D at 0x7f54931f02b0>]"
      ]
     },
     "execution_count": 28,
     "metadata": {},
     "output_type": "execute_result"
    },
    {
     "data": {
      "image/png": "[encoded data removed]",
      "text/plain": [
       "<Figure size 432x288 with 1 Axes>"
      ]
     },
     "metadata": {
      "needs_background": "light"
     },
     "output_type": "display_data"
    }
   ],
   "source": [
    "import matplotlib.pyplot as plt\n",
    "\n",
    "plt.plot(df.x_highRes, df.y_highRes, 'o')"
   ]
  },
  {
   "cell_type": "code",
   "execution_count": null,
   "id": "b7885876",
   "metadata": {},
   "outputs": [],
   "source": []
  }
 ],
 "metadata": {
  "kernelspec": {
   "display_name": "Python 3 (ipykernel)",
   "language": "python",
   "name": "python3"
  },
  "language_info": {
   "codemirror_mode": {
    "name": "ipython",
    "version": 3
   },
   "file_extension": ".py",
   "mimetype": "text/x-python",
   "name": "python",
   "nbconvert_exporter": "python",
   "pygments_lexer": "ipython3",
   "version": "3.7.3"
  }
 },
 "nbformat": 4,
 "nbformat_minor": 5
}
