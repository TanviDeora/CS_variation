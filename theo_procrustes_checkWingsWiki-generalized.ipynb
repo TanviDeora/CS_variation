{
 "cells": [
  {
   "cell_type": "code",
   "execution_count": 1,
   "id": "1cdf689f",
   "metadata": {},
   "outputs": [],
   "source": [
    "import numpy as np\n",
    "import pandas as pd\n",
    "from scipy.stats import ortho_group\n",
    "from procrustes import generalized\n",
    "import cv2 as cv2\n",
    "import matplotlib.pyplot as plt"
   ]
  },
  {
   "cell_type": "code",
   "execution_count": 2,
   "id": "6742d39f",
   "metadata": {},
   "outputs": [],
   "source": [
    "# Fly wings example (Klingenberg, 2015 | https://en.wikipedia.org/wiki/Procrustes_analysis)\n",
    "arr1 = np.array([[588.0, 443.0], [178.0, 443.0], [56.0, 436.0], [50.0, 376.0], [129.0, 360.0], [15.0, 342.0], [92.0, 293.0], [79.0, 269.0], [276.0, 295.0], [281.0, 331.0], [785.0, 260.0], [754.0, 174.0], [405.0, 233.0], [386.0, 167.0], [466.0, 59.0]])\n",
    "arr2 = np.array([[477.0, 557.0], [130.129, 374.307], [52.0, 334.0], [67.662, 306.953], [111.916, 323.0], [55.119, 275.854], [107.935, 277.723], [101.899, 259.73], [175.0, 329.0], [171.0, 345.0], [589.0, 527.0], [591.0, 468.0], [299.0, 363.0], [306.0, 317.0], [406.0, 288.0]])"
   ]
  },
  {
   "cell_type": "code",
   "execution_count": 3,
   "id": "feb5b9da",
   "metadata": {},
   "outputs": [
    {
     "data": {
      "text/plain": [
       "<matplotlib.collections.PathCollection at 0x7f6b5b9e8c18>"
      ]
     },
     "execution_count": 3,
     "metadata": {},
     "output_type": "execute_result"
    },
    {
     "data": {
      "image/png": "[encoded data removed]",
      "text/plain": [
       "<Figure size 432x288 with 1 Axes>"
      ]
     },
     "metadata": {
      "needs_background": "light"
     },
     "output_type": "display_data"
    }
   ],
   "source": [
    "plt.scatter(arr1[:,0], arr1[:,1], c = 'red')\n",
    "plt.scatter(arr2[:,0], arr2[:,1], c = 'blue')"
   ]
  },
  {
   "cell_type": "code",
   "execution_count": 5,
   "id": "c9374c19",
   "metadata": {},
   "outputs": [],
   "source": [
    "# orthogonal Procrustes analysis with translation\n",
    "result = generalized([arr1, arr2])"
   ]
  },
  {
   "cell_type": "code",
   "execution_count": 6,
   "id": "ff35ff4f",
   "metadata": {},
   "outputs": [
    {
     "data": {
      "text/plain": [
       "([array([[588., 443.],\n",
       "         [178., 443.],\n",
       "         [ 56., 436.],\n",
       "         [ 50., 376.],\n",
       "         [129., 360.],\n",
       "         [ 15., 342.],\n",
       "         [ 92., 293.],\n",
       "         [ 79., 269.],\n",
       "         [276., 295.],\n",
       "         [281., 331.],\n",
       "         [785., 260.],\n",
       "         [754., 174.],\n",
       "         [405., 233.],\n",
       "         [386., 167.],\n",
       "         [466.,  59.]]),\n",
       "  array([[607.61924722, 410.58111307],\n",
       "         [224.7218967 , 326.40367037],\n",
       "         [138.70178198, 308.25608782],\n",
       "         [146.63139743, 278.02432221],\n",
       "         [193.55631911, 281.76256385],\n",
       "         [126.2911954 , 251.36441164],\n",
       "         [177.71221179, 239.16186722],\n",
       "         [167.12126472, 223.41343285],\n",
       "         [255.97316133, 270.82049531],\n",
       "         [256.35888821, 287.30840648],\n",
       "         [707.65539769, 351.95715381],\n",
       "         [693.93942022, 294.53875988],\n",
       "         [384.54995019, 270.72372597],\n",
       "         [379.10206437, 224.5141973 ],\n",
       "         [467.83291786, 170.0363519 ]])],\n",
       " 3.513902016216475e-26)"
      ]
     },
     "execution_count": 6,
     "metadata": {},
     "output_type": "execute_result"
    }
   ],
   "source": [
    "result"
   ]
  },
  {
   "cell_type": "code",
   "execution_count": 8,
   "id": "28fbe8a3",
   "metadata": {},
   "outputs": [
    {
     "data": {
      "text/plain": [
       "array([[588., 443.],\n",
       "       [178., 443.],\n",
       "       [ 56., 436.],\n",
       "       [ 50., 376.],\n",
       "       [129., 360.],\n",
       "       [ 15., 342.],\n",
       "       [ 92., 293.],\n",
       "       [ 79., 269.],\n",
       "       [276., 295.],\n",
       "       [281., 331.],\n",
       "       [785., 260.],\n",
       "       [754., 174.],\n",
       "       [405., 233.],\n",
       "       [386., 167.],\n",
       "       [466.,  59.]])"
      ]
     },
     "execution_count": 8,
     "metadata": {},
     "output_type": "execute_result"
    }
   ],
   "source": [
    "result[0][0]"
   ]
  },
  {
   "cell_type": "code",
   "execution_count": 9,
   "id": "0a132505",
   "metadata": {},
   "outputs": [
    {
     "data": {
      "text/plain": [
       "<matplotlib.collections.PathCollection at 0x7f6b5b81ba90>"
      ]
     },
     "execution_count": 9,
     "metadata": {},
     "output_type": "execute_result"
    },
    {
     "data": {
      "image/png": "[encoded data removed]",
      "text/plain": [
       "<Figure size 432x288 with 1 Axes>"
      ]
     },
     "metadata": {
      "needs_background": "light"
     },
     "output_type": "display_data"
    }
   ],
   "source": [
    "import matplotlib.pyplot as plt\n",
    "plt.scatter(result[0][0][:,0], result[0][0][:,1], c='red')\n",
    "plt.scatter(result[0][1][:,0], result[0][1][:,1], c= 'blue', alpha = 0.5)"
   ]
  },
  {
   "cell_type": "code",
   "execution_count": null,
   "id": "1e7287e7",
   "metadata": {},
   "outputs": [],
   "source": []
  },
  {
   "cell_type": "code",
   "execution_count": null,
   "id": "78ebbb4e",
   "metadata": {},
   "outputs": [],
   "source": []
  },
  {
   "cell_type": "code",
   "execution_count": null,
   "id": "9dca3033",
   "metadata": {},
   "outputs": [],
   "source": []
  },
  {
   "cell_type": "code",
   "execution_count": 26,
   "id": "b2b0d196",
   "metadata": {},
   "outputs": [
    {
     "data": {
      "text/plain": [
       "array([[ 0.16797974,  0.2576163 ],\n",
       "       [-0.17330864,  0.0600013 ],\n",
       "       [-0.27148883, -0.00462809],\n",
       "       [-0.24756402, -0.05746466],\n",
       "       [-0.17409177, -0.03270619],\n",
       "       [-0.26031081, -0.10263619],\n",
       "       [-0.17259779, -0.10631125],\n",
       "       [-0.17185142, -0.13255495],\n",
       "       [-0.0203982 , -0.01596067],\n",
       "       [-0.0335877 ,  0.01641605],\n",
       "       [ 0.42016841,  0.20023675],\n",
       "       [ 0.43581463,  0.11370781],\n",
       "       [ 0.11686603, -0.00539371],\n",
       "       [ 0.13286142, -0.06949058],\n",
       "       [ 0.25150896, -0.12083191]])"
      ]
     },
     "execution_count": 26,
     "metadata": {},
     "output_type": "execute_result"
    }
   ],
   "source": [
    "transformed_matrix_2 = np.dot(result.new_a, result.t)\n",
    "transformed_matrix_2"
   ]
  },
  {
   "cell_type": "code",
   "execution_count": 27,
   "id": "04d4dada",
   "metadata": {},
   "outputs": [
    {
     "data": {
      "text/plain": [
       "array([[ 0.8653966 ,  0.50108754,  0.        ],\n",
       "       [-0.50108754,  0.8653966 ,  0.        ],\n",
       "       [ 0.        ,  0.        ,  0.        ]])"
      ]
     },
     "execution_count": 27,
     "metadata": {},
     "output_type": "execute_result"
    }
   ],
   "source": [
    "rot = result.t\n",
    "z = np.zeros((2,1))\n",
    "rot = np.append(rot, z, axis = 1) \n",
    "rot = np.append(rot, [[0,0,0]], axis=0)\n",
    "# rot = np.append(rot, [[0,0,0]], axis = 1)\n",
    "rot"
   ]
  },
  {
   "cell_type": "code",
   "execution_count": 28,
   "id": "a668863a",
   "metadata": {},
   "outputs": [],
   "source": [
    "from scipy.spatial.transform import Rotation   \n",
    "\n",
    "## first transform the matrix to euler angles\n",
    "r =  Rotation.from_matrix(rot)\n",
    "angles = r.as_euler(\"zyx\",degrees=True)"
   ]
  },
  {
   "cell_type": "code",
   "execution_count": 29,
   "id": "385fa1b6",
   "metadata": {},
   "outputs": [
    {
     "data": {
      "text/plain": [
       "array([-40.30531127,   0.        ,   0.        ])"
      ]
     },
     "execution_count": 29,
     "metadata": {},
     "output_type": "execute_result"
    }
   ],
   "source": [
    "angles"
   ]
  },
  {
   "cell_type": "code",
   "execution_count": null,
   "id": "27a033f8",
   "metadata": {},
   "outputs": [],
   "source": []
  }
 ],
 "metadata": {
  "kernelspec": {
   "display_name": "Python [conda env:procrustes]",
   "language": "python",
   "name": "conda-env-procrustes-py"
  },
  "language_info": {
   "codemirror_mode": {
    "name": "ipython",
    "version": 3
   },
   "file_extension": ".py",
   "mimetype": "text/x-python",
   "name": "python",
   "nbconvert_exporter": "python",
   "pygments_lexer": "ipython3",
   "version": "3.6.13"
  }
 },
 "nbformat": 4,
 "nbformat_minor": 5
}
