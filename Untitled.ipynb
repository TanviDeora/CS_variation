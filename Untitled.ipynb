{
 "cells": [
  {
   "cell_type": "code",
   "execution_count": 6,
   "id": "f9bd6b65",
   "metadata": {},
   "outputs": [],
   "source": [
    "from PIL import Image\n",
    "import numpy \n",
    "from PIL.TiffTags import TAGS"
   ]
  },
  {
   "cell_type": "code",
   "execution_count": 11,
   "id": "02394fcc",
   "metadata": {},
   "outputs": [
    {
     "ename": "AttributeError",
     "evalue": "'ImageFileDirectory_v1' object has no attribute 'iterkeys'",
     "output_type": "error",
     "traceback": [
      "\u001b[1;31m---------------------------------------------------------------------------\u001b[0m",
      "\u001b[1;31mAttributeError\u001b[0m                            Traceback (most recent call last)",
      "\u001b[1;32m<ipython-input-11-f2fcd060fd51>\u001b[0m in \u001b[0;36m<module>\u001b[1;34m\u001b[0m\n\u001b[0;32m      1\u001b[0m \u001b[1;32mwith\u001b[0m \u001b[0mImage\u001b[0m\u001b[1;33m.\u001b[0m\u001b[0mopen\u001b[0m\u001b[1;33m(\u001b[0m\u001b[1;34m'./median_bf.tif'\u001b[0m\u001b[1;33m)\u001b[0m \u001b[1;32mas\u001b[0m \u001b[0mimg\u001b[0m\u001b[1;33m:\u001b[0m\u001b[1;33m\u001b[0m\u001b[0m\n\u001b[1;32m----> 2\u001b[1;33m     \u001b[0mmeta_dict\u001b[0m \u001b[1;33m=\u001b[0m \u001b[1;33m{\u001b[0m\u001b[0mTAGS\u001b[0m\u001b[1;33m[\u001b[0m\u001b[0mkey\u001b[0m\u001b[1;33m]\u001b[0m \u001b[1;33m:\u001b[0m \u001b[0mimg\u001b[0m\u001b[1;33m.\u001b[0m\u001b[0mtag\u001b[0m\u001b[1;33m[\u001b[0m\u001b[0mkey\u001b[0m\u001b[1;33m]\u001b[0m \u001b[1;32mfor\u001b[0m \u001b[0mkey\u001b[0m \u001b[1;32min\u001b[0m \u001b[0mimg\u001b[0m\u001b[1;33m.\u001b[0m\u001b[0mtag\u001b[0m\u001b[1;33m.\u001b[0m\u001b[0miterkeys\u001b[0m\u001b[1;33m(\u001b[0m\u001b[1;33m)\u001b[0m\u001b[1;33m}\u001b[0m\u001b[1;33m\u001b[0m\u001b[0m\n\u001b[0m",
      "\u001b[1;31mAttributeError\u001b[0m: 'ImageFileDirectory_v1' object has no attribute 'iterkeys'"
     ]
    }
   ],
   "source": [
    "with Image.open('./median_bf.tif') as img:\n",
    "    meta_dict = {TAGS[key] : img.tag[key] for key in img.tag.iterkeys()}"
   ]
  },
  {
   "cell_type": "code",
   "execution_count": 27,
   "id": "55c22e25",
   "metadata": {},
   "outputs": [
    {
     "name": "stdout",
     "output_type": "stream",
     "text": [
      "{256: (1920,), 257: (1440,), 258: (16,), 259: (1,), 262: (1,), 270: ('<MetaData>\\r\\n\\t<prop id=\"Description\" type=\"string\" value=\"Exposure: 150 ms&amp;#13;&amp;#10;Binning: 1 x 1&amp;#13;&amp;#10;Region: 1920 x 1440, offset at (0, 0)&amp;#13;&amp;#10;Acquired from Hamamatsu DCAM Camera&amp;#13;&amp;#10;Subtract: Off&amp;#13;&amp;#10;Shading: Off&amp;#13;&amp;#10;Digitizer: 12-bit&amp;#13;&amp;#10;Gain: 0&amp;#13;&amp;#10;Bit Depth: 12&amp;#13;&amp;#10;Frames to Average: 1&amp;#13;&amp;#10;Trigger Mode: Delayed Internal&amp;#13;&amp;#10;Number of trigger times: 1&amp;#13;&amp;#10;Output Trigger Delay: 0 msec&amp;#13;&amp;#10;Output Trigger Width: 0.01 msec&amp;#13;&amp;#10;\">\\r\\n\\t</prop>\\r\\n\\t<prop id=\"MetaDataVersion\" type=\"float\" value=\"1\">\\r\\n\\t</prop>\\r\\n\\t<prop id=\"ApplicationName\" type=\"string\" value=\"MetaMorph\">\\r\\n\\t</prop>\\r\\n\\t<prop id=\"ApplicationVersion\" type=\"string\" value=\"7.7.8.0\">\\r\\n\\t</prop>\\r\\n\\t<PlaneInfo>\\r\\n\\t\\t<prop id=\"plane-type\" type=\"string\" value=\"plane\">\\r\\n\\t\\t</prop>\\r\\n\\t\\t<prop id=\"pixel-size-x\" type=\"int\" value=\"1920\">\\r\\n\\t\\t</prop>\\r\\n\\t\\t<prop id=\"pixel-size-y\" type=\"int\" value=\"1440\">\\r\\n\\t\\t</prop>\\r\\n\\t\\t<prop id=\"bits-per-pixel\" type=\"int\" value=\"16\">\\r\\n\\t\\t</prop>\\r\\n\\t\\t<prop id=\"autoscale-state\" type=\"bool\" value=\"off\">\\r\\n\\t\\t</prop>\\r\\n\\t\\t<prop id=\"autoscale-min-percent\" type=\"float\" value=\"0\">\\r\\n\\t\\t</prop>\\r\\n\\t\\t<prop id=\"autoscale-max-percent\" type=\"float\" value=\"0\">\\r\\n\\t\\t</prop>\\r\\n\\t\\t<prop id=\"scale-min\" type=\"int\" value=\"0\">\\r\\n\\t\\t</prop>\\r\\n\\t\\t<prop id=\"scale-max\" type=\"int\" value=\"4095\">\\r\\n\\t\\t</prop>\\r\\n\\t\\t<prop id=\"spatial-calibration-state\" type=\"bool\" value=\"on\">\\r\\n\\t\\t</prop>\\r\\n\\t\\t<prop id=\"spatial-calibration-x\" type=\"float\" value=\"0.361687\">\\r\\n\\t\\t</prop>\\r\\n\\t\\t<prop id=\"spatial-calibration-y\" type=\"float\" value=\"0.361687\">\\r\\n\\t\\t</prop>\\r\\n\\t\\t<prop id=\"spatial-calibration-units\" type=\"string\" value=\"µm\">\\r\\n\\t\\t</prop>\\r\\n\\t\\t<prop id=\"image-name\" type=\"string\" value=\"Acquired-2\">\\r\\n\\t\\t</prop>\\r\\n\\t\\t<prop id=\"threshold-state\" type=\"string\" value=\"ThresholdOff\">\\r\\n\\t\\t</prop>\\r\\n\\t\\t<prop id=\"threshold-low\" type=\"int\" value=\"0\">\\r\\n\\t\\t</prop>\\r\\n\\t\\t<prop id=\"threshold-high\" type=\"int\" value=\"65535\">\\r\\n\\t\\t</prop>\\r\\n\\t\\t<prop id=\"threshold-color\" type=\"colorref\" value=\"4080ff\">\\r\\n\\t\\t</prop>\\r\\n\\t\\t<prop id=\"zoom-percent\" type=\"int\" value=\"50\">\\r\\n\\t\\t</prop>\\r\\n\\t\\t<prop id=\"gamma\" type=\"float\" value=\"1\">\\r\\n\\t\\t</prop>\\r\\n\\t\\t<prop id=\"look-up-table-type\" type=\"string\" value=\"standard\">\\r\\n\\t\\t</prop>\\r\\n\\t\\t<prop id=\"look-up-table-name\" type=\"string\" value=\"Monochrome\">\\r\\n\\t\\t</prop>\\r\\n\\t\\t<prop id=\"photonegative-mode\" type=\"bool\" value=\"off\">\\r\\n\\t\\t</prop>\\r\\n\\t\\t<prop id=\"gray-calibration-curve-fit-algorithm\" type=\"int\" value=\"4\">\\r\\n\\t\\t</prop>\\r\\n\\t\\t<prop id=\"gray-calibration-values\" type=\"float-array\" value=\"\">\\r\\n\\t\\t</prop>\\r\\n\\t\\t<prop id=\"gray-calibration-min\" type=\"float\" value=\"-1\">\\r\\n\\t\\t</prop>\\r\\n\\t\\t<prop id=\"gray-calibration-max\" type=\"float\" value=\"-1\">\\r\\n\\t\\t</prop>\\r\\n\\t\\t<prop id=\"gray-calibration-units\" type=\"string\" value=\"\">\\r\\n\\t\\t</prop>\\r\\n\\t\\t<prop id=\"plane-guid\" type=\"guid\" value=\"{D18087F7-3DB2-445D-BF82-25B25A36D0F5}\">\\r\\n\\t\\t</prop>\\r\\n\\t\\t<prop id=\"acquisition-time-local\" type=\"time\" value=\"20210628 12:20:03.236\">\\r\\n\\t\\t</prop>\\r\\n\\t\\t<prop id=\"modification-time-local\" type=\"time\" value=\"20210628 12:22:56.299\">\\r\\n\\t\\t</prop>\\r\\n\\t\\t<prop id=\"stage-position-x\" type=\"float\" value=\"17414.9\">\\r\\n\\t\\t</prop>\\r\\n\\t\\t<prop id=\"stage-position-y\" type=\"float\" value=\"-5878.13\">\\r\\n\\t\\t</prop>\\r\\n\\t\\t<prop id=\"stage-label\" type=\"string\" value=\"Row0_Col3\">\\r\\n\\t\\t</prop>\\r\\n\\t\\t<prop id=\"z-position\" type=\"float\" value=\"-12.46\">\\r\\n\\t\\t</prop>\\r\\n\\t\\t<prop id=\"wavelength\" type=\"float\" value=\"0\">\\r\\n\\t\\t</prop>\\r\\n\\t\\t<prop id=\"camera-binning-x\" type=\"int\" value=\"1\">\\r\\n\\t\\t</prop>\\r\\n\\t\\t<prop id=\"camera-binning-y\" type=\"int\" value=\"1\">\\r\\n\\t\\t</prop>\\r\\n\\t\\t<prop id=\"camera-chip-offset-x\" type=\"float\" value=\"0\">\\r\\n\\t\\t</prop>\\r\\n\\t\\t<prop id=\"camera-chip-offset-y\" type=\"float\" value=\"0\">\\r\\n\\t\\t</prop>\\r\\n\\t\\t<prop id=\"_IllumSetting_\" type=\"string\" value=\"10 BF Flash Camera\">\\r\\n\\t\\t</prop>\\r\\n\\t\\t<prop id=\"_MagNA_\" type=\"float\" value=\"0.4\">\\r\\n\\t\\t</prop>\\r\\n\\t\\t<prop id=\"_MagRI_\" type=\"float\" value=\"1\">\\r\\n\\t\\t</prop>\\r\\n\\t\\t<prop id=\"_MagSetting_\" type=\"string\" value=\"10x BF\">\\r\\n\\t\\t</prop>\\r\\n\\t\\t<custom-prop id=\"Camera Bit Depth\" type=\"float\" value=\"12\">\\r\\n\\t\\t</custom-prop>\\r\\n\\t\\t<custom-prop id=\"DAQ2K Analog In Ch0\" type=\"float\" value=\"0.0277714\">\\r\\n\\t\\t</custom-prop>\\r\\n\\t\\t<custom-prop id=\"DAQ2K Analog In Ch8\" type=\"float\" value=\"-0.00244144\">\\r\\n\\t\\t</custom-prop>\\r\\n\\t\\t<custom-prop id=\"DAQ2K CoolLED shutter ttl1\" type=\"string\" value=\"Closed\">\\r\\n\\t\\t</custom-prop>\\r\\n\\t\\t<custom-prop id=\"DAQ2K Lambda XL shutter ttl2\" type=\"string\" value=\"Closed\">\\r\\n\\t\\t</custom-prop>\\r\\n\\t\\t<custom-prop id=\"Lambda 10-3 DSU emitter wheel B\" type=\"string\" value=\"open\">\\r\\n\\t\\t</custom-prop>\\r\\n\\t\\t<custom-prop id=\"Lambda 10-3 front emitter wheel A\" type=\"string\" value=\"BF/DIC (open)\">\\r\\n\\t\\t</custom-prop>\\r\\n\\t\\t<custom-prop id=\"Lambda XL exciter wheel\" type=\"string\" value=\"DAPI\">\\r\\n\\t\\t</custom-prop>\\r\\n\\t\\t<custom-prop id=\"Lambda XL Lamp Intensity\" type=\"float\" value=\"100\">\\r\\n\\t\\t</custom-prop>\\r\\n\\t\\t<custom-prop id=\"Lambda XL Lamp Power\" type=\"string\" value=\"On\">\\r\\n\\t\\t</custom-prop>\\r\\n\\t\\t<custom-prop id=\"Lambda XL Neutral Density Shutter A\" type=\"float\" value=\"144\">\\r\\n\\t\\t</custom-prop>\\r\\n\\t\\t<custom-prop id=\"Lambda XL Shutter A\" type=\"string\" value=\"Closed\">\\r\\n\\t\\t</custom-prop>\\r\\n\\t\\t<custom-prop id=\"Olympus Camera Port\" type=\"string\" value=\"Flash\">\\r\\n\\t\\t</custom-prop>\\r\\n\\t\\t<custom-prop id=\"Olympus Condenser\" type=\"string\" value=\"BF\">\\r\\n\\t\\t</custom-prop>\\r\\n\\t\\t<custom-prop id=\"Olympus Confocal Disk\" type=\"string\" value=\"OUT\">\\r\\n\\t\\t</custom-prop>\\r\\n\\t\\t<custom-prop id=\"Olympus DSU filter turret\" type=\"string\" value=\"EPI Mirror\">\\r\\n\\t\\t</custom-prop>\\r\\n\\t\\t<custom-prop id=\"Olympus front filter turret\" type=\"string\" value=\"BF\">\\r\\n\\t\\t</custom-prop>\\r\\n\\t\\t<custom-prop id=\"Olympus Objective\" type=\"string\" value=\"10x\">\\r\\n\\t\\t</custom-prop>\\r\\n\\t</PlaneInfo>\\r\\n\\t<SetInfo>\\r\\n\\t\\t<prop id=\"number-of-planes\" type=\"int\" value=\"1\">\\r\\n\\t\\t</prop>\\r\\n\\t</SetInfo>\\r\\n</MetaData>',), 273: (8, 7688, 15368, 23048, 30728, 38408, 46088, 53768, 61448, 69128, 76808, 84488, 92168, 99848, 107528, 115208, 122888, 130568, 138248, 145928, 153608, 161288, 168968, 176648, 184328, 192008, 199688, 207368, 215048, 222728, 230408, 238088, 245768, 253448, 261128, 268808, 276488, 284168, 291848, 299528, 307208, 314888, 322568, 330248, 337928, 345608, 353288, 360968, 368648, 376328, 384008, 391688, 399368, 407048, 414728, 422408, 430088, 437768, 445448, 453128, 460808, 468488, 476168, 483848, 491528, 499208, 506888, 514568, 522248, 529928, 537608, 545288, 552968, 560648, 568328, 576008, 583688, 591368, 599048, 606728, 614408, 622088, 629768, 637448, 645128, 652808, 660488, 668168, 675848, 683528, 691208, 698888, 706568, 714248, 721928, 729608, 737288, 744968, 752648, 760328, 768008, 775688, 783368, 791048, 798728, 806408, 814088, 821768, 829448, 837128, 844808, 852488, 860168, 867848, 875528, 883208, 890888, 898568, 906248, 913928, 921608, 929288, 936968, 944648, 952328, 960008, 967688, 975368, 983048, 990728, 998408, 1006088, 1013768, 1021448, 1029128, 1036808, 1044488, 1052168, 1059848, 1067528, 1075208, 1082888, 1090568, 1098248, 1105928, 1113608, 1121288, 1128968, 1136648, 1144328, 1152008, 1159688, 1167368, 1175048, 1182728, 1190408, 1198088, 1205768, 1213448, 1221128, 1228808, 1236488, 1244168, 1251848, 1259528, 1267208, 1274888, 1282568, 1290248, 1297928, 1305608, 1313288, 1320968, 1328648, 1336328, 1344008, 1351688, 1359368, 1367048, 1374728, 1382408, 1390088, 1397768, 1405448, 1413128, 1420808, 1428488, 1436168, 1443848, 1451528, 1459208, 1466888, 1474568, 1482248, 1489928, 1497608, 1505288, 1512968, 1520648, 1528328, 1536008, 1543688, 1551368, 1559048, 1566728, 1574408, 1582088, 1589768, 1597448, 1605128, 1612808, 1620488, 1628168, 1635848, 1643528, 1651208, 1658888, 1666568, 1674248, 1681928, 1689608, 1697288, 1704968, 1712648, 1720328, 1728008, 1735688, 1743368, 1751048, 1758728, 1766408, 1774088, 1781768, 1789448, 1797128, 1804808, 1812488, 1820168, 1827848, 1835528, 1843208, 1850888, 1858568, 1866248, 1873928, 1881608, 1889288, 1896968, 1904648, 1912328, 1920008, 1927688, 1935368, 1943048, 1950728, 1958408, 1966088, 1973768, 1981448, 1989128, 1996808, 2004488, 2012168, 2019848, 2027528, 2035208, 2042888, 2050568, 2058248, 2065928, 2073608, 2081288, 2088968, 2096648, 2104328, 2112008, 2119688, 2127368, 2135048, 2142728, 2150408, 2158088, 2165768, 2173448, 2181128, 2188808, 2196488, 2204168, 2211848, 2219528, 2227208, 2234888, 2242568, 2250248, 2257928, 2265608, 2273288, 2280968, 2288648, 2296328, 2304008, 2311688, 2319368, 2327048, 2334728, 2342408, 2350088, 2357768, 2365448, 2373128, 2380808, 2388488, 2396168, 2403848, 2411528, 2419208, 2426888, 2434568, 2442248, 2449928, 2457608, 2465288, 2472968, 2480648, 2488328, 2496008, 2503688, 2511368, 2519048, 2526728, 2534408, 2542088, 2549768, 2557448, 2565128, 2572808, 2580488, 2588168, 2595848, 2603528, 2611208, 2618888, 2626568, 2634248, 2641928, 2649608, 2657288, 2664968, 2672648, 2680328, 2688008, 2695688, 2703368, 2711048, 2718728, 2726408, 2734088, 2741768, 2749448, 2757128, 2764808, 2772488, 2780168, 2787848, 2795528, 2803208, 2810888, 2818568, 2826248, 2833928, 2841608, 2849288, 2856968, 2864648, 2872328, 2880008, 2887688, 2895368, 2903048, 2910728, 2918408, 2926088, 2933768, 2941448, 2949128, 2956808, 2964488, 2972168, 2979848, 2987528, 2995208, 3002888, 3010568, 3018248, 3025928, 3033608, 3041288, 3048968, 3056648, 3064328, 3072008, 3079688, 3087368, 3095048, 3102728, 3110408, 3118088, 3125768, 3133448, 3141128, 3148808, 3156488, 3164168, 3171848, 3179528, 3187208, 3194888, 3202568, 3210248, 3217928, 3225608, 3233288, 3240968, 3248648, 3256328, 3264008, 3271688, 3279368, 3287048, 3294728, 3302408, 3310088, 3317768, 3325448, 3333128, 3340808, 3348488, 3356168, 3363848, 3371528, 3379208, 3386888, 3394568, 3402248, 3409928, 3417608, 3425288, 3432968, 3440648, 3448328, 3456008, 3463688, 3471368, 3479048, 3486728, 3494408, 3502088, 3509768, 3517448, 3525128, 3532808, 3540488, 3548168, 3555848, 3563528, 3571208, 3578888, 3586568, 3594248, 3601928, 3609608, 3617288, 3624968, 3632648, 3640328, 3648008, 3655688, 3663368, 3671048, 3678728, 3686408, 3694088, 3701768, 3709448, 3717128, 3724808, 3732488, 3740168, 3747848, 3755528, 3763208, 3770888, 3778568, 3786248, 3793928, 3801608, 3809288, 3816968, 3824648, 3832328, 3840008, 3847688, 3855368, 3863048, 3870728, 3878408, 3886088, 3893768, 3901448, 3909128, 3916808, 3924488, 3932168, 3939848, 3947528, 3955208, 3962888, 3970568, 3978248, 3985928, 3993608, 4001288, 4008968, 4016648, 4024328, 4032008, 4039688, 4047368, 4055048, 4062728, 4070408, 4078088, 4085768, 4093448, 4101128, 4108808, 4116488, 4124168, 4131848, 4139528, 4147208, 4154888, 4162568, 4170248, 4177928, 4185608, 4193288, 4200968, 4208648, 4216328, 4224008, 4231688, 4239368, 4247048, 4254728, 4262408, 4270088, 4277768, 4285448, 4293128, 4300808, 4308488, 4316168, 4323848, 4331528, 4339208, 4346888, 4354568, 4362248, 4369928, 4377608, 4385288, 4392968, 4400648, 4408328, 4416008, 4423688, 4431368, 4439048, 4446728, 4454408, 4462088, 4469768, 4477448, 4485128, 4492808, 4500488, 4508168, 4515848, 4523528, 4531208, 4538888, 4546568, 4554248, 4561928, 4569608, 4577288, 4584968, 4592648, 4600328, 4608008, 4615688, 4623368, 4631048, 4638728, 4646408, 4654088, 4661768, 4669448, 4677128, 4684808, 4692488, 4700168, 4707848, 4715528, 4723208, 4730888, 4738568, 4746248, 4753928, 4761608, 4769288, 4776968, 4784648, 4792328, 4800008, 4807688, 4815368, 4823048, 4830728, 4838408, 4846088, 4853768, 4861448, 4869128, 4876808, 4884488, 4892168, 4899848, 4907528, 4915208, 4922888, 4930568, 4938248, 4945928, 4953608, 4961288, 4968968, 4976648, 4984328, 4992008, 4999688, 5007368, 5015048, 5022728, 5030408, 5038088, 5045768, 5053448, 5061128, 5068808, 5076488, 5084168, 5091848, 5099528, 5107208, 5114888, 5122568, 5130248, 5137928, 5145608, 5153288, 5160968, 5168648, 5176328, 5184008, 5191688, 5199368, 5207048, 5214728, 5222408, 5230088, 5237768, 5245448, 5253128, 5260808, 5268488, 5276168, 5283848, 5291528, 5299208, 5306888, 5314568, 5322248, 5329928, 5337608, 5345288, 5352968, 5360648, 5368328, 5376008, 5383688, 5391368, 5399048, 5406728, 5414408, 5422088, 5429768, 5437448, 5445128, 5452808, 5460488, 5468168, 5475848, 5483528, 5491208, 5498888, 5506568, 5514248, 5521928), 277: (1,), 278: (2,), 279: (7680, 7680, 7680, 7680, 7680, 7680, 7680, 7680, 7680, 7680, 7680, 7680, 7680, 7680, 7680, 7680, 7680, 7680, 7680, 7680, 7680, 7680, 7680, 7680, 7680, 7680, 7680, 7680, 7680, 7680, 7680, 7680, 7680, 7680, 7680, 7680, 7680, 7680, 7680, 7680, 7680, 7680, 7680, 7680, 7680, 7680, 7680, 7680, 7680, 7680, 7680, 7680, 7680, 7680, 7680, 7680, 7680, 7680, 7680, 7680, 7680, 7680, 7680, 7680, 7680, 7680, 7680, 7680, 7680, 7680, 7680, 7680, 7680, 7680, 7680, 7680, 7680, 7680, 7680, 7680, 7680, 7680, 7680, 7680, 7680, 7680, 7680, 7680, 7680, 7680, 7680, 7680, 7680, 7680, 7680, 7680, 7680, 7680, 7680, 7680, 7680, 7680, 7680, 7680, 7680, 7680, 7680, 7680, 7680, 7680, 7680, 7680, 7680, 7680, 7680, 7680, 7680, 7680, 7680, 7680, 7680, 7680, 7680, 7680, 7680, 7680, 7680, 7680, 7680, 7680, 7680, 7680, 7680, 7680, 7680, 7680, 7680, 7680, 7680, 7680, 7680, 7680, 7680, 7680, 7680, 7680, 7680, 7680, 7680, 7680, 7680, 7680, 7680, 7680, 7680, 7680, 7680, 7680, 7680, 7680, 7680, 7680, 7680, 7680, 7680, 7680, 7680, 7680, 7680, 7680, 7680, 7680, 7680, 7680, 7680, 7680, 7680, 7680, 7680, 7680, 7680, 7680, 7680, 7680, 7680, 7680, 7680, 7680, 7680, 7680, 7680, 7680, 7680, 7680, 7680, 7680, 7680, 7680, 7680, 7680, 7680, 7680, 7680, 7680, 7680, 7680, 7680, 7680, 7680, 7680, 7680, 7680, 7680, 7680, 7680, 7680, 7680, 7680, 7680, 7680, 7680, 7680, 7680, 7680, 7680, 7680, 7680, 7680, 7680, 7680, 7680, 7680, 7680, 7680, 7680, 7680, 7680, 7680, 7680, 7680, 7680, 7680, 7680, 7680, 7680, 7680, 7680, 7680, 7680, 7680, 7680, 7680, 7680, 7680, 7680, 7680, 7680, 7680, 7680, 7680, 7680, 7680, 7680, 7680, 7680, 7680, 7680, 7680, 7680, 7680, 7680, 7680, 7680, 7680, 7680, 7680, 7680, 7680, 7680, 7680, 7680, 7680, 7680, 7680, 7680, 7680, 7680, 7680, 7680, 7680, 7680, 7680, 7680, 7680, 7680, 7680, 7680, 7680, 7680, 7680, 7680, 7680, 7680, 7680, 7680, 7680, 7680, 7680, 7680, 7680, 7680, 7680, 7680, 7680, 7680, 7680, 7680, 7680, 7680, 7680, 7680, 7680, 7680, 7680, 7680, 7680, 7680, 7680, 7680, 7680, 7680, 7680, 7680, 7680, 7680, 7680, 7680, 7680, 7680, 7680, 7680, 7680, 7680, 7680, 7680, 7680, 7680, 7680, 7680, 7680, 7680, 7680, 7680, 7680, 7680, 7680, 7680, 7680, 7680, 7680, 7680, 7680, 7680, 7680, 7680, 7680, 7680, 7680, 7680, 7680, 7680, 7680, 7680, 7680, 7680, 7680, 7680, 7680, 7680, 7680, 7680, 7680, 7680, 7680, 7680, 7680, 7680, 7680, 7680, 7680, 7680, 7680, 7680, 7680, 7680, 7680, 7680, 7680, 7680, 7680, 7680, 7680, 7680, 7680, 7680, 7680, 7680, 7680, 7680, 7680, 7680, 7680, 7680, 7680, 7680, 7680, 7680, 7680, 7680, 7680, 7680, 7680, 7680, 7680, 7680, 7680, 7680, 7680, 7680, 7680, 7680, 7680, 7680, 7680, 7680, 7680, 7680, 7680, 7680, 7680, 7680, 7680, 7680, 7680, 7680, 7680, 7680, 7680, 7680, 7680, 7680, 7680, 7680, 7680, 7680, 7680, 7680, 7680, 7680, 7680, 7680, 7680, 7680, 7680, 7680, 7680, 7680, 7680, 7680, 7680, 7680, 7680, 7680, 7680, 7680, 7680, 7680, 7680, 7680, 7680, 7680, 7680, 7680, 7680, 7680, 7680, 7680, 7680, 7680, 7680, 7680, 7680, 7680, 7680, 7680, 7680, 7680, 7680, 7680, 7680, 7680, 7680, 7680, 7680, 7680, 7680, 7680, 7680, 7680, 7680, 7680, 7680, 7680, 7680, 7680, 7680, 7680, 7680, 7680, 7680, 7680, 7680, 7680, 7680, 7680, 7680, 7680, 7680, 7680, 7680, 7680, 7680, 7680, 7680, 7680, 7680, 7680, 7680, 7680, 7680, 7680, 7680, 7680, 7680, 7680, 7680, 7680, 7680, 7680, 7680, 7680, 7680, 7680, 7680, 7680, 7680, 7680, 7680, 7680, 7680, 7680, 7680, 7680, 7680, 7680, 7680, 7680, 7680, 7680, 7680, 7680, 7680, 7680, 7680, 7680, 7680, 7680, 7680, 7680, 7680, 7680, 7680, 7680, 7680, 7680, 7680, 7680, 7680, 7680, 7680, 7680, 7680, 7680, 7680, 7680, 7680, 7680, 7680, 7680, 7680, 7680, 7680, 7680, 7680, 7680, 7680, 7680, 7680, 7680, 7680, 7680, 7680, 7680, 7680, 7680, 7680, 7680, 7680, 7680, 7680, 7680, 7680, 7680, 7680, 7680, 7680, 7680, 7680, 7680, 7680, 7680, 7680, 7680, 7680, 7680, 7680, 7680, 7680, 7680, 7680, 7680, 7680, 7680, 7680, 7680, 7680, 7680, 7680, 7680, 7680, 7680, 7680, 7680, 7680, 7680, 7680, 7680, 7680, 7680, 7680, 7680, 7680, 7680, 7680, 7680, 7680, 7680, 7680, 7680, 7680, 7680, 7680, 7680, 7680, 7680, 7680, 7680, 7680, 7680, 7680, 7680, 7680, 7680, 7680, 7680, 7680, 7680, 7680, 7680, 7680, 7680, 7680, 7680, 7680, 7680, 7680, 7680, 7680, 7680, 7680, 7680, 7680, 7680, 7680, 7680, 7680, 7680, 7680, 7680, 7680, 7680, 7680, 7680, 7680, 7680, 7680, 7680, 7680, 7680, 7680), 305: ('MetaSeries',), 306: ('20210628 12:20:03.236',), 254: (2,)}\n"
     ]
    }
   ],
   "source": [
    "print(img.tag)"
   ]
  },
  {
   "cell_type": "code",
   "execution_count": 16,
   "id": "fda59710",
   "metadata": {},
   "outputs": [
    {
     "data": {
      "text/plain": [
       "<PIL.Image.Exif at 0x16137191320>"
      ]
     },
     "execution_count": 16,
     "metadata": {},
     "output_type": "execute_result"
    }
   ],
   "source": [
    "# extract EXIF data\n",
    "exifdata = image.getexif()"
   ]
  },
  {
   "cell_type": "code",
   "execution_count": 17,
   "id": "fc48fa73",
   "metadata": {},
   "outputs": [],
   "source": [
    "# iterating over all EXIF data fields\n",
    "for tag_id in exifdata:\n",
    "    # get the tag name, instead of human unreadable tag id\n",
    "    tag = TAGS.get(tag_id, tag_id)\n",
    "    data = exifdata.get(tag_id)\n",
    "    # decode bytes \n",
    "    if isinstance(data, bytes):\n",
    "        data = data.decode()\n",
    "    print(f\"{tag:25}: {data}\")"
   ]
  },
  {
   "cell_type": "code",
   "execution_count": 23,
   "id": "19f4aff4",
   "metadata": {},
   "outputs": [
    {
     "name": "stdout",
     "output_type": "stream",
     "text": [
      "{}\n"
     ]
    }
   ],
   "source": [
    "print(exifdata)"
   ]
  },
  {
   "cell_type": "code",
   "execution_count": 8,
   "id": "a0195d03",
   "metadata": {},
   "outputs": [],
   "source": [
    "im = Image.open('./median_bf.tif') \n",
    "imarray = numpy.array(im) \n",
    "imarray.shape \n",
    "im.show()"
   ]
  },
  {
   "cell_type": "code",
   "execution_count": 12,
   "id": "89ca88fa",
   "metadata": {},
   "outputs": [
    {
     "ename": "AttributeError",
     "evalue": "'NoneType' object has no attribute 'read'",
     "output_type": "error",
     "traceback": [
      "\u001b[1;31m---------------------------------------------------------------------------\u001b[0m",
      "\u001b[1;31mAttributeError\u001b[0m                            Traceback (most recent call last)",
      "\u001b[1;32m~\\AppData\\Local\\Continuum\\anaconda3\\lib\\site-packages\\PIL\\ImageFile.py\u001b[0m in \u001b[0;36mload\u001b[1;34m(self)\u001b[0m\n\u001b[0;32m    172\u001b[0m         \u001b[1;32mtry\u001b[0m\u001b[1;33m:\u001b[0m\u001b[1;33m\u001b[0m\u001b[0m\n\u001b[1;32m--> 173\u001b[1;33m             \u001b[0mread\u001b[0m \u001b[1;33m=\u001b[0m \u001b[0mself\u001b[0m\u001b[1;33m.\u001b[0m\u001b[0mload_read\u001b[0m\u001b[1;33m\u001b[0m\u001b[0m\n\u001b[0m\u001b[0;32m    174\u001b[0m             \u001b[1;31m# don't use mmap if there are custom read/seek functions\u001b[0m\u001b[1;33m\u001b[0m\u001b[1;33m\u001b[0m\u001b[0m\n",
      "\u001b[1;32m~\\AppData\\Local\\Continuum\\anaconda3\\lib\\site-packages\\PIL\\Image.py\u001b[0m in \u001b[0;36m__getattr__\u001b[1;34m(self, name)\u001b[0m\n\u001b[0;32m    540\u001b[0m             \u001b[1;32mreturn\u001b[0m \u001b[0mself\u001b[0m\u001b[1;33m.\u001b[0m\u001b[0m_category\u001b[0m\u001b[1;33m\u001b[0m\u001b[0m\n\u001b[1;32m--> 541\u001b[1;33m         \u001b[1;32mraise\u001b[0m \u001b[0mAttributeError\u001b[0m\u001b[1;33m(\u001b[0m\u001b[0mname\u001b[0m\u001b[1;33m)\u001b[0m\u001b[1;33m\u001b[0m\u001b[0m\n\u001b[0m\u001b[0;32m    542\u001b[0m \u001b[1;33m\u001b[0m\u001b[0m\n",
      "\u001b[1;31mAttributeError\u001b[0m: load_read",
      "\nDuring handling of the above exception, another exception occurred:\n",
      "\u001b[1;31mAttributeError\u001b[0m                            Traceback (most recent call last)",
      "\u001b[1;32m<ipython-input-12-f5c923bf570e>\u001b[0m in \u001b[0;36m<module>\u001b[1;34m\u001b[0m\n\u001b[0;32m      1\u001b[0m \u001b[1;32mimport\u001b[0m \u001b[0mmatplotlib\u001b[0m\u001b[1;33m.\u001b[0m\u001b[0mpyplot\u001b[0m \u001b[1;32mas\u001b[0m \u001b[0mplt\u001b[0m\u001b[1;33m\u001b[0m\u001b[0m\n\u001b[1;32m----> 2\u001b[1;33m \u001b[0mplt\u001b[0m\u001b[1;33m.\u001b[0m\u001b[0mimshow\u001b[0m\u001b[1;33m(\u001b[0m\u001b[0mimg\u001b[0m\u001b[1;33m)\u001b[0m\u001b[1;33m\u001b[0m\u001b[0m\n\u001b[0m",
      "\u001b[1;32m~\\AppData\\Local\\Continuum\\anaconda3\\lib\\site-packages\\matplotlib\\pyplot.py\u001b[0m in \u001b[0;36mimshow\u001b[1;34m(X, cmap, norm, aspect, interpolation, alpha, vmin, vmax, origin, extent, filternorm, filterrad, resample, url, data, **kwargs)\u001b[0m\n\u001b[0;32m   2728\u001b[0m         \u001b[0mfilternorm\u001b[0m\u001b[1;33m=\u001b[0m\u001b[0mfilternorm\u001b[0m\u001b[1;33m,\u001b[0m \u001b[0mfilterrad\u001b[0m\u001b[1;33m=\u001b[0m\u001b[0mfilterrad\u001b[0m\u001b[1;33m,\u001b[0m \u001b[0mresample\u001b[0m\u001b[1;33m=\u001b[0m\u001b[0mresample\u001b[0m\u001b[1;33m,\u001b[0m\u001b[1;33m\u001b[0m\u001b[0m\n\u001b[0;32m   2729\u001b[0m         \u001b[0murl\u001b[0m\u001b[1;33m=\u001b[0m\u001b[0murl\u001b[0m\u001b[1;33m,\u001b[0m \u001b[1;33m**\u001b[0m\u001b[1;33m(\u001b[0m\u001b[1;33m{\u001b[0m\u001b[1;34m\"data\"\u001b[0m\u001b[1;33m:\u001b[0m \u001b[0mdata\u001b[0m\u001b[1;33m}\u001b[0m \u001b[1;32mif\u001b[0m \u001b[0mdata\u001b[0m \u001b[1;32mis\u001b[0m \u001b[1;32mnot\u001b[0m \u001b[1;32mNone\u001b[0m \u001b[1;32melse\u001b[0m \u001b[1;33m{\u001b[0m\u001b[1;33m}\u001b[0m\u001b[1;33m)\u001b[0m\u001b[1;33m,\u001b[0m\u001b[1;33m\u001b[0m\u001b[0m\n\u001b[1;32m-> 2730\u001b[1;33m         **kwargs)\n\u001b[0m\u001b[0;32m   2731\u001b[0m     \u001b[0msci\u001b[0m\u001b[1;33m(\u001b[0m\u001b[0m__ret\u001b[0m\u001b[1;33m)\u001b[0m\u001b[1;33m\u001b[0m\u001b[0m\n\u001b[0;32m   2732\u001b[0m     \u001b[1;32mreturn\u001b[0m \u001b[0m__ret\u001b[0m\u001b[1;33m\u001b[0m\u001b[0m\n",
      "\u001b[1;32m~\\AppData\\Local\\Continuum\\anaconda3\\lib\\site-packages\\matplotlib\\__init__.py\u001b[0m in \u001b[0;36minner\u001b[1;34m(ax, data, *args, **kwargs)\u001b[0m\n\u001b[0;32m   1445\u001b[0m     \u001b[1;32mdef\u001b[0m \u001b[0minner\u001b[0m\u001b[1;33m(\u001b[0m\u001b[0max\u001b[0m\u001b[1;33m,\u001b[0m \u001b[1;33m*\u001b[0m\u001b[0margs\u001b[0m\u001b[1;33m,\u001b[0m \u001b[0mdata\u001b[0m\u001b[1;33m=\u001b[0m\u001b[1;32mNone\u001b[0m\u001b[1;33m,\u001b[0m \u001b[1;33m**\u001b[0m\u001b[0mkwargs\u001b[0m\u001b[1;33m)\u001b[0m\u001b[1;33m:\u001b[0m\u001b[1;33m\u001b[0m\u001b[0m\n\u001b[0;32m   1446\u001b[0m         \u001b[1;32mif\u001b[0m \u001b[0mdata\u001b[0m \u001b[1;32mis\u001b[0m \u001b[1;32mNone\u001b[0m\u001b[1;33m:\u001b[0m\u001b[1;33m\u001b[0m\u001b[0m\n\u001b[1;32m-> 1447\u001b[1;33m             \u001b[1;32mreturn\u001b[0m \u001b[0mfunc\u001b[0m\u001b[1;33m(\u001b[0m\u001b[0max\u001b[0m\u001b[1;33m,\u001b[0m \u001b[1;33m*\u001b[0m\u001b[0mmap\u001b[0m\u001b[1;33m(\u001b[0m\u001b[0msanitize_sequence\u001b[0m\u001b[1;33m,\u001b[0m \u001b[0margs\u001b[0m\u001b[1;33m)\u001b[0m\u001b[1;33m,\u001b[0m \u001b[1;33m**\u001b[0m\u001b[0mkwargs\u001b[0m\u001b[1;33m)\u001b[0m\u001b[1;33m\u001b[0m\u001b[0m\n\u001b[0m\u001b[0;32m   1448\u001b[0m \u001b[1;33m\u001b[0m\u001b[0m\n\u001b[0;32m   1449\u001b[0m         \u001b[0mbound\u001b[0m \u001b[1;33m=\u001b[0m \u001b[0mnew_sig\u001b[0m\u001b[1;33m.\u001b[0m\u001b[0mbind\u001b[0m\u001b[1;33m(\u001b[0m\u001b[0max\u001b[0m\u001b[1;33m,\u001b[0m \u001b[1;33m*\u001b[0m\u001b[0margs\u001b[0m\u001b[1;33m,\u001b[0m \u001b[1;33m**\u001b[0m\u001b[0mkwargs\u001b[0m\u001b[1;33m)\u001b[0m\u001b[1;33m\u001b[0m\u001b[0m\n",
      "\u001b[1;32m~\\AppData\\Local\\Continuum\\anaconda3\\lib\\site-packages\\matplotlib\\axes\\_axes.py\u001b[0m in \u001b[0;36mimshow\u001b[1;34m(self, X, cmap, norm, aspect, interpolation, alpha, vmin, vmax, origin, extent, filternorm, filterrad, resample, url, **kwargs)\u001b[0m\n\u001b[0;32m   5521\u001b[0m                               resample=resample, **kwargs)\n\u001b[0;32m   5522\u001b[0m \u001b[1;33m\u001b[0m\u001b[0m\n\u001b[1;32m-> 5523\u001b[1;33m         \u001b[0mim\u001b[0m\u001b[1;33m.\u001b[0m\u001b[0mset_data\u001b[0m\u001b[1;33m(\u001b[0m\u001b[0mX\u001b[0m\u001b[1;33m)\u001b[0m\u001b[1;33m\u001b[0m\u001b[0m\n\u001b[0m\u001b[0;32m   5524\u001b[0m         \u001b[0mim\u001b[0m\u001b[1;33m.\u001b[0m\u001b[0mset_alpha\u001b[0m\u001b[1;33m(\u001b[0m\u001b[0malpha\u001b[0m\u001b[1;33m)\u001b[0m\u001b[1;33m\u001b[0m\u001b[0m\n\u001b[0;32m   5525\u001b[0m         \u001b[1;32mif\u001b[0m \u001b[0mim\u001b[0m\u001b[1;33m.\u001b[0m\u001b[0mget_clip_path\u001b[0m\u001b[1;33m(\u001b[0m\u001b[1;33m)\u001b[0m \u001b[1;32mis\u001b[0m \u001b[1;32mNone\u001b[0m\u001b[1;33m:\u001b[0m\u001b[1;33m\u001b[0m\u001b[0m\n",
      "\u001b[1;32m~\\AppData\\Local\\Continuum\\anaconda3\\lib\\site-packages\\matplotlib\\image.py\u001b[0m in \u001b[0;36mset_data\u001b[1;34m(self, A)\u001b[0m\n\u001b[0;32m    695\u001b[0m         \"\"\"\n\u001b[0;32m    696\u001b[0m         \u001b[1;32mif\u001b[0m \u001b[0misinstance\u001b[0m\u001b[1;33m(\u001b[0m\u001b[0mA\u001b[0m\u001b[1;33m,\u001b[0m \u001b[0mPIL\u001b[0m\u001b[1;33m.\u001b[0m\u001b[0mImage\u001b[0m\u001b[1;33m.\u001b[0m\u001b[0mImage\u001b[0m\u001b[1;33m)\u001b[0m\u001b[1;33m:\u001b[0m\u001b[1;33m\u001b[0m\u001b[0m\n\u001b[1;32m--> 697\u001b[1;33m             \u001b[0mA\u001b[0m \u001b[1;33m=\u001b[0m \u001b[0mpil_to_array\u001b[0m\u001b[1;33m(\u001b[0m\u001b[0mA\u001b[0m\u001b[1;33m)\u001b[0m  \u001b[1;31m# Needed e.g. to apply png palette.\u001b[0m\u001b[1;33m\u001b[0m\u001b[0m\n\u001b[0m\u001b[0;32m    698\u001b[0m         \u001b[0mself\u001b[0m\u001b[1;33m.\u001b[0m\u001b[0m_A\u001b[0m \u001b[1;33m=\u001b[0m \u001b[0mcbook\u001b[0m\u001b[1;33m.\u001b[0m\u001b[0msafe_masked_invalid\u001b[0m\u001b[1;33m(\u001b[0m\u001b[0mA\u001b[0m\u001b[1;33m,\u001b[0m \u001b[0mcopy\u001b[0m\u001b[1;33m=\u001b[0m\u001b[1;32mTrue\u001b[0m\u001b[1;33m)\u001b[0m\u001b[1;33m\u001b[0m\u001b[0m\n\u001b[0;32m    699\u001b[0m \u001b[1;33m\u001b[0m\u001b[0m\n",
      "\u001b[1;32m~\\AppData\\Local\\Continuum\\anaconda3\\lib\\site-packages\\matplotlib\\image.py\u001b[0m in \u001b[0;36mpil_to_array\u001b[1;34m(pilImage)\u001b[0m\n\u001b[0;32m   1633\u001b[0m     \u001b[1;32melif\u001b[0m \u001b[0mpilImage\u001b[0m\u001b[1;33m.\u001b[0m\u001b[0mmode\u001b[0m\u001b[1;33m.\u001b[0m\u001b[0mstartswith\u001b[0m\u001b[1;33m(\u001b[0m\u001b[1;34m'I;16'\u001b[0m\u001b[1;33m)\u001b[0m\u001b[1;33m:\u001b[0m\u001b[1;33m\u001b[0m\u001b[0m\n\u001b[0;32m   1634\u001b[0m         \u001b[1;31m# return MxN luminance array of uint16\u001b[0m\u001b[1;33m\u001b[0m\u001b[1;33m\u001b[0m\u001b[0m\n\u001b[1;32m-> 1635\u001b[1;33m         \u001b[0mraw\u001b[0m \u001b[1;33m=\u001b[0m \u001b[0mpilImage\u001b[0m\u001b[1;33m.\u001b[0m\u001b[0mtobytes\u001b[0m\u001b[1;33m(\u001b[0m\u001b[1;34m'raw'\u001b[0m\u001b[1;33m,\u001b[0m \u001b[0mpilImage\u001b[0m\u001b[1;33m.\u001b[0m\u001b[0mmode\u001b[0m\u001b[1;33m)\u001b[0m\u001b[1;33m\u001b[0m\u001b[0m\n\u001b[0m\u001b[0;32m   1636\u001b[0m         \u001b[1;32mif\u001b[0m \u001b[0mpilImage\u001b[0m\u001b[1;33m.\u001b[0m\u001b[0mmode\u001b[0m\u001b[1;33m.\u001b[0m\u001b[0mendswith\u001b[0m\u001b[1;33m(\u001b[0m\u001b[1;34m'B'\u001b[0m\u001b[1;33m)\u001b[0m\u001b[1;33m:\u001b[0m\u001b[1;33m\u001b[0m\u001b[0m\n\u001b[0;32m   1637\u001b[0m             \u001b[0mx\u001b[0m \u001b[1;33m=\u001b[0m \u001b[0mnp\u001b[0m\u001b[1;33m.\u001b[0m\u001b[0mfrombuffer\u001b[0m\u001b[1;33m(\u001b[0m\u001b[0mraw\u001b[0m\u001b[1;33m,\u001b[0m \u001b[1;34m'>u2'\u001b[0m\u001b[1;33m)\u001b[0m\u001b[1;33m\u001b[0m\u001b[0m\n",
      "\u001b[1;32m~\\AppData\\Local\\Continuum\\anaconda3\\lib\\site-packages\\PIL\\Image.py\u001b[0m in \u001b[0;36mtobytes\u001b[1;34m(self, encoder_name, *args)\u001b[0m\n\u001b[0;32m    732\u001b[0m             \u001b[0margs\u001b[0m \u001b[1;33m=\u001b[0m \u001b[0mself\u001b[0m\u001b[1;33m.\u001b[0m\u001b[0mmode\u001b[0m\u001b[1;33m\u001b[0m\u001b[0m\n\u001b[0;32m    733\u001b[0m \u001b[1;33m\u001b[0m\u001b[0m\n\u001b[1;32m--> 734\u001b[1;33m         \u001b[0mself\u001b[0m\u001b[1;33m.\u001b[0m\u001b[0mload\u001b[0m\u001b[1;33m(\u001b[0m\u001b[1;33m)\u001b[0m\u001b[1;33m\u001b[0m\u001b[0m\n\u001b[0m\u001b[0;32m    735\u001b[0m \u001b[1;33m\u001b[0m\u001b[0m\n\u001b[0;32m    736\u001b[0m         \u001b[1;31m# unpack data\u001b[0m\u001b[1;33m\u001b[0m\u001b[1;33m\u001b[0m\u001b[0m\n",
      "\u001b[1;32m~\\AppData\\Local\\Continuum\\anaconda3\\lib\\site-packages\\PIL\\TiffImagePlugin.py\u001b[0m in \u001b[0;36mload\u001b[1;34m(self)\u001b[0m\n\u001b[0;32m   1087\u001b[0m         \u001b[1;32mif\u001b[0m \u001b[0mself\u001b[0m\u001b[1;33m.\u001b[0m\u001b[0mtile\u001b[0m \u001b[1;32mand\u001b[0m \u001b[0mself\u001b[0m\u001b[1;33m.\u001b[0m\u001b[0muse_load_libtiff\u001b[0m\u001b[1;33m:\u001b[0m\u001b[1;33m\u001b[0m\u001b[0m\n\u001b[0;32m   1088\u001b[0m             \u001b[1;32mreturn\u001b[0m \u001b[0mself\u001b[0m\u001b[1;33m.\u001b[0m\u001b[0m_load_libtiff\u001b[0m\u001b[1;33m(\u001b[0m\u001b[1;33m)\u001b[0m\u001b[1;33m\u001b[0m\u001b[0m\n\u001b[1;32m-> 1089\u001b[1;33m         \u001b[1;32mreturn\u001b[0m \u001b[0msuper\u001b[0m\u001b[1;33m(\u001b[0m\u001b[1;33m)\u001b[0m\u001b[1;33m.\u001b[0m\u001b[0mload\u001b[0m\u001b[1;33m(\u001b[0m\u001b[1;33m)\u001b[0m\u001b[1;33m\u001b[0m\u001b[0m\n\u001b[0m\u001b[0;32m   1090\u001b[0m \u001b[1;33m\u001b[0m\u001b[0m\n\u001b[0;32m   1091\u001b[0m     \u001b[1;32mdef\u001b[0m \u001b[0mload_end\u001b[0m\u001b[1;33m(\u001b[0m\u001b[0mself\u001b[0m\u001b[1;33m)\u001b[0m\u001b[1;33m:\u001b[0m\u001b[1;33m\u001b[0m\u001b[0m\n",
      "\u001b[1;32m~\\AppData\\Local\\Continuum\\anaconda3\\lib\\site-packages\\PIL\\ImageFile.py\u001b[0m in \u001b[0;36mload\u001b[1;34m(self)\u001b[0m\n\u001b[0;32m    175\u001b[0m             \u001b[0muse_mmap\u001b[0m \u001b[1;33m=\u001b[0m \u001b[1;32mFalse\u001b[0m\u001b[1;33m\u001b[0m\u001b[0m\n\u001b[0;32m    176\u001b[0m         \u001b[1;32mexcept\u001b[0m \u001b[0mAttributeError\u001b[0m\u001b[1;33m:\u001b[0m\u001b[1;33m\u001b[0m\u001b[0m\n\u001b[1;32m--> 177\u001b[1;33m             \u001b[0mread\u001b[0m \u001b[1;33m=\u001b[0m \u001b[0mself\u001b[0m\u001b[1;33m.\u001b[0m\u001b[0mfp\u001b[0m\u001b[1;33m.\u001b[0m\u001b[0mread\u001b[0m\u001b[1;33m\u001b[0m\u001b[0m\n\u001b[0m\u001b[0;32m    178\u001b[0m \u001b[1;33m\u001b[0m\u001b[0m\n\u001b[0;32m    179\u001b[0m         \u001b[1;32mtry\u001b[0m\u001b[1;33m:\u001b[0m\u001b[1;33m\u001b[0m\u001b[0m\n",
      "\u001b[1;31mAttributeError\u001b[0m: 'NoneType' object has no attribute 'read'"
     ]
    },
    {
     "data": {
      "image/png": "[encoded data removed]",
      "text/plain": [
       "<Figure size 432x288 with 1 Axes>"
      ]
     },
     "metadata": {
      "needs_background": "light"
     },
     "output_type": "display_data"
    }
   ],
   "source": [
    "import matplotlib.pyplot as plt\n",
    "plt.imshow(img)"
   ]
  },
  {
   "cell_type": "code",
   "execution_count": null,
   "id": "c10cc7f5",
   "metadata": {},
   "outputs": [],
   "source": []
  }
 ],
 "metadata": {
  "kernelspec": {
   "display_name": "Python 3",
   "language": "python",
   "name": "python3"
  },
  "language_info": {
   "codemirror_mode": {
    "name": "ipython",
    "version": 3
   },
   "file_extension": ".py",
   "mimetype": "text/x-python",
   "name": "python",
   "nbconvert_exporter": "python",
   "pygments_lexer": "ipython3",
   "version": "3.6.5"
  }
 },
 "nbformat": 4,
 "nbformat_minor": 5
}
