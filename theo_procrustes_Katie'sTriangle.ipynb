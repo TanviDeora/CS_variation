{
 "cells": [
  {
   "cell_type": "code",
   "execution_count": 1,
   "id": "1cdf689f",
   "metadata": {},
   "outputs": [],
   "source": [
    "import numpy as np\n",
    "import pandas as pd\n",
    "from scipy.stats import ortho_group\n",
    "from procrustes import orthogonal\n",
    "from procrustes import orthogonal_2sided\n",
    "import cv2 as cv2\n",
    "import matplotlib.pyplot as plt"
   ]
  },
  {
   "cell_type": "code",
   "execution_count": 17,
   "id": "841bc940",
   "metadata": {},
   "outputs": [],
   "source": [
    "# the two original triangles for future use\n",
    "T1=np.array([[0,1],\n",
    "           [1,-1],\n",
    "           [-1,-1]])\n",
    "T2=np.array([[1.55, 0.82],\n",
    "            [3.10, -0.72],\n",
    "            [1.07, -1.65]])"
   ]
  },
  {
   "cell_type": "code",
   "execution_count": 18,
   "id": "395e9175",
   "metadata": {},
   "outputs": [
    {
     "data": {
      "text/plain": [
       "(array([[ 0,  1],\n",
       "        [ 1, -1],\n",
       "        [-1, -1]]),\n",
       " array([[ 1.55,  0.82],\n",
       "        [ 3.1 , -0.72],\n",
       "        [ 1.07, -1.65]]))"
      ]
     },
     "execution_count": 18,
     "metadata": {},
     "output_type": "execute_result"
    }
   ],
   "source": [
    "T1, T2"
   ]
  },
  {
   "cell_type": "code",
   "execution_count": 13,
   "id": "51e32c4f",
   "metadata": {},
   "outputs": [],
   "source": [
    "s = np.array([[2, 0.5],\n",
    "              [2, -0.5]])"
   ]
  },
  {
   "cell_type": "code",
   "execution_count": 80,
   "id": "dd113b1b",
   "metadata": {},
   "outputs": [],
   "source": [
    "# s2 = np.concatenate([s2, np.zeros((len(s1)-len(s2),2))])"
   ]
  },
  {
   "cell_type": "code",
   "execution_count": 81,
   "id": "7c337ffb",
   "metadata": {},
   "outputs": [],
   "source": [
    "# pts1 = np.concatenate([pts_img1, s1])\n",
    "# pts2 = np.concatenate([pts_img2, s2])"
   ]
  },
  {
   "cell_type": "code",
   "execution_count": 83,
   "id": "621b8c5b",
   "metadata": {},
   "outputs": [],
   "source": [
    "# len(pts1),len(s1),len(pts_img1)\n",
    "# w2 = np.zeros((len(s1),1)).squeeze()\n",
    "# w1 = np.ones((len(pts_img1),1)).squeeze()\n",
    "# w = np.concatenate([w1, w2])"
   ]
  },
  {
   "cell_type": "code",
   "execution_count": 7,
   "id": "9332f521",
   "metadata": {},
   "outputs": [],
   "source": [
    "# w"
   ]
  },
  {
   "cell_type": "code",
   "execution_count": 19,
   "id": "d62f3aae",
   "metadata": {},
   "outputs": [
    {
     "data": {
      "text/plain": [
       "<matplotlib.collections.PathCollection at 0x7ff905ca4160>"
      ]
     },
     "execution_count": 19,
     "metadata": {},
     "output_type": "execute_result"
    },
    {
     "data": {
      "image/png": "[encoded data removed]",
      "text/plain": [
       "<Figure size 432x288 with 1 Axes>"
      ]
     },
     "metadata": {
      "needs_background": "light"
     },
     "output_type": "display_data"
    }
   ],
   "source": [
    "plt.scatter(T1[:,0], T1[:,1], c = ['blue', 'red', 'grey'])\n",
    "plt.scatter(T2[:,0], T2[:,1], c = ['blue', 'red', 'grey'])\n",
    "# ax[1].get_gca().invert_yaxis()"
   ]
  },
  {
   "cell_type": "code",
   "execution_count": 20,
   "id": "c9374c19",
   "metadata": {},
   "outputs": [],
   "source": [
    "# orthogonal Procrustes analysis with translation\n",
    "# pad_mode = \"row\"\n",
    "result = orthogonal(T2, T1, scale=True, translate=True)"
   ]
  },
  {
   "cell_type": "code",
   "execution_count": 21,
   "id": "ff35ff4f",
   "metadata": {},
   "outputs": [
    {
     "data": {
      "text/plain": [
       " error: 0.008361881464286357\n",
       " new_a: array([[-0.15400291,  0.5771511 ],\n",
       "       [ 0.51526208, -0.08779605],\n",
       "       [-0.36125917, -0.48935505]])\n",
       " new_b: array([[ 0.        ,  0.6172134 ],\n",
       "       [ 0.46291005, -0.3086067 ],\n",
       "       [-0.46291005, -0.3086067 ]])\n",
       "     s: None\n",
       "     t: array([[ 0.94403554, -0.32984374],\n",
       "       [ 0.32984374,  0.94403554]])"
      ]
     },
     "execution_count": 21,
     "metadata": {},
     "output_type": "execute_result"
    }
   ],
   "source": [
    "result"
   ]
  },
  {
   "cell_type": "code",
   "execution_count": 48,
   "id": "04d4dada",
   "metadata": {},
   "outputs": [
    {
     "data": {
      "text/plain": [
       "array([[ 0.94403554, -0.32984374,  0.        ],\n",
       "       [ 0.32984374,  0.94403554,  0.        ],\n",
       "       [ 0.        ,  0.        ,  0.        ]])"
      ]
     },
     "execution_count": 48,
     "metadata": {},
     "output_type": "execute_result"
    }
   ],
   "source": [
    "rot = result.t\n",
    "z = np.zeros((2,1))\n",
    "rot = np.append(rot, z, axis = 1) \n",
    "rot = np.append(rot, [[0,0,0]], axis=0)\n",
    "# rot = np.append(rot, [[0,0,0]], axis = 1)\n",
    "rot"
   ]
  },
  {
   "cell_type": "code",
   "execution_count": 50,
   "id": "a668863a",
   "metadata": {},
   "outputs": [
    {
     "data": {
      "text/plain": [
       "array([25.73329639,  0.        ,  0.        ])"
      ]
     },
     "execution_count": 50,
     "metadata": {},
     "output_type": "execute_result"
    }
   ],
   "source": [
    "from scipy.spatial.transform import Rotation   \n",
    "\n",
    "## first transform the matrix to euler angles\n",
    "r =  Rotation.from_matrix(rot)\n",
    "angles = r.as_euler(\"zyx\",degrees=True)\n",
    "angles"
   ]
  },
  {
   "cell_type": "code",
   "execution_count": 26,
   "id": "0a132505",
   "metadata": {},
   "outputs": [
    {
     "data": {
      "text/plain": [
       "<matplotlib.collections.PathCollection at 0x7ff905c01a58>"
      ]
     },
     "execution_count": 26,
     "metadata": {},
     "output_type": "execute_result"
    },
    {
     "data": {
      "image/png": "[encoded data removed]",
      "text/plain": [
       "<Figure size 432x288 with 1 Axes>"
      ]
     },
     "metadata": {
      "needs_background": "light"
     },
     "output_type": "display_data"
    }
   ],
   "source": [
    "import matplotlib.pyplot as plt\n",
    "plt.scatter(result.new_b[:,0], result.new_b[:,1], c='red')\n",
    "plt.scatter(transformed_mat[:,0], transformed_mat[:,1], c= 'blue', alpha = 0.5)"
   ]
  },
  {
   "cell_type": "code",
   "execution_count": 66,
   "id": "195be757",
   "metadata": {},
   "outputs": [],
   "source": [
    "# translate the test matrix wrt to ref matrix\n",
    "s_trans = s - np.average(T2, axis = 0)\n",
    "t2_trans = T2 - np.average(T2, axis = 0)\n",
    "\n",
    "# scale to reference matrix\n",
    "# scaling factor to match unit sphere\n",
    "s_scale = s_trans * 1.0 / np.linalg.norm(T2)\n",
    "t2_scale = t2_trans * 1.0 / np.linalg.norm(T2)\n",
    "\n",
    "s_final = np.dot(s_scale,result.t)\n",
    "t2_final = np.dot(t2_scale,result.t)"
   ]
  },
  {
   "cell_type": "code",
   "execution_count": 67,
   "id": "d50ea77f",
   "metadata": {},
   "outputs": [
    {
     "data": {
      "text/plain": [
       "array([[ 2. ,  0.5],\n",
       "       [ 2. , -0.5]])"
      ]
     },
     "execution_count": 67,
     "metadata": {},
     "output_type": "execute_result"
    }
   ],
   "source": [
    "s"
   ]
  },
  {
   "cell_type": "code",
   "execution_count": 68,
   "id": "5d09904b",
   "metadata": {},
   "outputs": [
    {
     "data": {
      "text/plain": [
       "array([[ 0.02521622,  0.33388557],\n",
       "       [ 0.25642918, -0.14172656],\n",
       "       [-0.28164541, -0.19215901]])"
      ]
     },
     "execution_count": 68,
     "metadata": {},
     "output_type": "execute_result"
    }
   ],
   "source": [
    "t2_final"
   ]
  },
  {
   "cell_type": "code",
   "execution_count": 83,
   "id": "7c47b40b",
   "metadata": {},
   "outputs": [],
   "source": [
    "# compute distance between the two points before and after transformation\n",
    "\n",
    "dist_s_pt1 = np.sqrt((s[0,0]-T2[0,0])**2 + (s[0,1]-T2[0,1])**2) \n",
    "dist_s_pt2 = np.sqrt((s[0,0]-s[1,0])**2 + (s[0,1]-s[1,1])**2)\n",
    "dist_ratio_before = dist_s_pt1/dist_s_pt2\n",
    "\n",
    "dist_s_final_pt1 = np.sqrt((s_final[0,0] - t2_final[0,0])**2 + (s_final[0,1] - t2_final[0,1])**2)\n",
    "dist_s_final_pt2 = np.sqrt((s_final[0,0] - s_final[1,0])**2 + (s_final[0,1] - s_final[1,1])**2)\n",
    "dist_ratio_after = dist_s_final_pt1/dist_s_final_pt2"
   ]
  },
  {
   "cell_type": "code",
   "execution_count": 84,
   "id": "6f4ac69e",
   "metadata": {},
   "outputs": [
    {
     "data": {
      "text/plain": [
       "0.13364510209960032"
      ]
     },
     "execution_count": 84,
     "metadata": {},
     "output_type": "execute_result"
    }
   ],
   "source": [
    "dist_s_final_pt1"
   ]
  },
  {
   "cell_type": "code",
   "execution_count": 85,
   "id": "59c1a606",
   "metadata": {},
   "outputs": [
    {
     "name": "stdout",
     "output_type": "stream",
     "text": [
      "0.5521775076911409\n",
      "0.5521775076911405\n"
     ]
    },
    {
     "data": {
      "text/plain": [
       "(None, None)"
      ]
     },
     "execution_count": 85,
     "metadata": {},
     "output_type": "execute_result"
    }
   ],
   "source": [
    "print(dist_ratio_before), print(dist_ratio_after)"
   ]
  },
  {
   "cell_type": "code",
   "execution_count": null,
   "id": "9d3a1115",
   "metadata": {},
   "outputs": [],
   "source": []
  }
 ],
 "metadata": {
  "kernelspec": {
   "display_name": "Python [conda env:procrustes]",
   "language": "python",
   "name": "conda-env-procrustes-py"
  },
  "language_info": {
   "codemirror_mode": {
    "name": "ipython",
    "version": 3
   },
   "file_extension": ".py",
   "mimetype": "text/x-python",
   "name": "python",
   "nbconvert_exporter": "python",
   "pygments_lexer": "ipython3",
   "version": "3.6.13"
  }
 },
 "nbformat": 4,
 "nbformat_minor": 5
}
