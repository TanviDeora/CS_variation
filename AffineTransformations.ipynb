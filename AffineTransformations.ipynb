{
 "cells": [
  {
   "cell_type": "code",
   "execution_count": 1,
   "id": "ff0c6ee9",
   "metadata": {},
   "outputs": [],
   "source": [
    "import cv2 as cv2\n",
    "import numpy as np\n",
    "import pandas as pd\n",
    "\n",
    "import matplotlib.pyplot as plt"
   ]
  },
  {
   "cell_type": "code",
   "execution_count": 2,
   "id": "91118fcd",
   "metadata": {},
   "outputs": [],
   "source": [
    "img = np.zeros([100,100,3],dtype=np.uint8)\n",
    "img.fill(0) # or img[:] = 255\n",
    "img[20:60, 20:80] = 255\n",
    "\n",
    "img2 = np.zeros([100,100,3],dtype=np.uint8)\n",
    "img2.fill(0) # or img[:] = 255\n",
    "img2[20:60, 20:40] = 255"
   ]
  },
  {
   "cell_type": "code",
   "execution_count": 3,
   "id": "c59e9c9d",
   "metadata": {},
   "outputs": [
    {
     "data": {
      "image/png": "[encoded data removed]",
      "text/plain": [
       "<Figure size 432x288 with 1 Axes>"
      ]
     },
     "metadata": {
      "needs_background": "light"
     },
     "output_type": "display_data"
    },
    {
     "data": {
      "text/plain": [
       "<matplotlib.image.AxesImage at 0x23696249518>"
      ]
     },
     "execution_count": 3,
     "metadata": {},
     "output_type": "execute_result"
    },
    {
     "data": {
      "image/png": "[encoded data removed]",
      "text/plain": [
       "<Figure size 432x288 with 1 Axes>"
      ]
     },
     "metadata": {
      "needs_background": "light"
     },
     "output_type": "display_data"
    }
   ],
   "source": [
    "plt.imshow(img)\n",
    "plt.show()\n",
    "plt.imshow(img2)"
   ]
  },
  {
   "cell_type": "code",
   "execution_count": 4,
   "id": "e814a0bd",
   "metadata": {},
   "outputs": [
    {
     "data": {
      "text/plain": [
       "<matplotlib.image.AxesImage at 0x236962b34a8>"
      ]
     },
     "execution_count": 4,
     "metadata": {},
     "output_type": "execute_result"
    },
    {
     "data": {
      "image/png": "[encoded data removed]",
      "text/plain": [
       "<Figure size 432x288 with 1 Axes>"
      ]
     },
     "metadata": {
      "needs_background": "light"
     },
     "output_type": "display_data"
    }
   ],
   "source": [
    "pt1 = np.float32([[20,20],\n",
    "               [80, 20],\n",
    "               [20, 60],\n",
    "               [80, 60]])\n",
    "\n",
    "sensor_pt1 = np.float32([40,60])\n",
    "\n",
    "for x,y in pt1:\n",
    "    landmarks = cv2.circle(img, (x,y), 1, (255, 255, 0), -1)\n",
    "\n",
    "landmarks = cv2.circle(img, tuple(sensor_pt1) , 1, (255, 255, 0), -1)\n",
    "plt.imshow(landmarks)"
   ]
  },
  {
   "cell_type": "code",
   "execution_count": 5,
   "id": "81e2b16c",
   "metadata": {},
   "outputs": [
    {
     "data": {
      "text/plain": [
       "<matplotlib.image.AxesImage at 0x236963140b8>"
      ]
     },
     "execution_count": 5,
     "metadata": {},
     "output_type": "execute_result"
    },
    {
     "data": {
      "image/png": "[encoded data removed]",
      "text/plain": [
       "<Figure size 432x288 with 1 Axes>"
      ]
     },
     "metadata": {
      "needs_background": "light"
     },
     "output_type": "display_data"
    }
   ],
   "source": [
    "pt2 = np.float32([[40,20],\n",
    "               [40, 60],\n",
    "               [20, 60],\n",
    "               [20, 20]])\n",
    "\n",
    "for x,y in pt2:\n",
    "    landmarks2 = cv2.circle(img2, (x,y), 1, (255, 255, 0), -1)\n",
    "plt.imshow(landmarks2)"
   ]
  },
  {
   "cell_type": "code",
   "execution_count": 6,
   "id": "b0387304",
   "metadata": {},
   "outputs": [],
   "source": [
    "M, extra = cv2.estimateAffine2D(pt1, pt2)"
   ]
  },
  {
   "cell_type": "code",
   "execution_count": 7,
   "id": "c3614790",
   "metadata": {},
   "outputs": [
    {
     "data": {
      "text/plain": [
       "array([[-0.        , -0.5       , 50.        ],\n",
       "       [ 0.66666667, -1.        , 26.66666667]])"
      ]
     },
     "execution_count": 7,
     "metadata": {},
     "output_type": "execute_result"
    }
   ],
   "source": [
    "M"
   ]
  },
  {
   "cell_type": "code",
   "execution_count": 42,
   "id": "9c8ab4cf",
   "metadata": {},
   "outputs": [],
   "source": [
    "rows, cols, ch = img.shape\n",
    "dst = cv2.warpAffine(img, M, (cols, rows))"
   ]
  },
  {
   "cell_type": "code",
   "execution_count": 31,
   "id": "9f5e826e",
   "metadata": {},
   "outputs": [],
   "source": [
    "test_loc = np.append(sensor_pt1, np.float32(1))"
   ]
  },
  {
   "cell_type": "code",
   "execution_count": 46,
   "id": "23e7c655",
   "metadata": {},
   "outputs": [
    {
     "data": {
      "text/plain": [
       "array([20.        , -6.66666667])"
      ]
     },
     "execution_count": 46,
     "metadata": {},
     "output_type": "execute_result"
    }
   ],
   "source": [
    "np.dot(M, test_loc)"
   ]
  }
 ],
 "metadata": {
  "kernelspec": {
   "display_name": "Python 3",
   "language": "python",
   "name": "python3"
  },
  "language_info": {
   "codemirror_mode": {
    "name": "ipython",
    "version": 3
   },
   "file_extension": ".py",
   "mimetype": "text/x-python",
   "name": "python",
   "nbconvert_exporter": "python",
   "pygments_lexer": "ipython3",
   "version": "3.6.5"
  }
 },
 "nbformat": 4,
 "nbformat_minor": 5
}
