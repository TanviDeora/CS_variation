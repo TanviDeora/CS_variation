{
 "cells": [
  {
   "cell_type": "code",
   "execution_count": 1,
   "id": "7bece62d",
   "metadata": {},
   "outputs": [],
   "source": [
    "import numpy as np\n",
    "import pandas as pd\n",
    "import glob\n",
    "import os"
   ]
  },
  {
   "cell_type": "code",
   "execution_count": 2,
   "id": "0041f6ea",
   "metadata": {},
   "outputs": [],
   "source": [
    "def GetXYPosND2File(filepath):\n",
    "\n",
    "    from nd2reader import ND2Reader\n",
    "    from nd2reader.raw_metadata import RawMetadata\n",
    "\n",
    "    # get label map\n",
    "    with ND2Reader(filepath) as images:\n",
    "        mp = images._parser._label_map\n",
    "\n",
    "    fh = open(filepath , 'rb')\n",
    "    y = RawMetadata(fh, mp).y_data\n",
    "    x = RawMetadata(fh, mp).x_data"
   ]
  },
  {
   "cell_type": "code",
   "execution_count": 3,
   "id": "59fe7fd3",
   "metadata": {},
   "outputs": [],
   "source": [
    "# position of CS in microns from the file created in previous Step - \"00_ReadHeaderAndMakeList\"\n",
    "input_location = r\"../../../../data2/users/tanvid2/CS_imaging_project/Wing_Imaging/\"\n",
    "locationAnalysisData = './dataFolder/Analysis/'"
   ]
  },
  {
   "cell_type": "code",
   "execution_count": 4,
   "id": "91524a70",
   "metadata": {},
   "outputs": [],
   "source": [
    "files = glob.glob(input_location + '*/*_full.nd2')"
   ]
  },
  {
   "cell_type": "code",
   "execution_count": 9,
   "id": "fb02e1f9",
   "metadata": {},
   "outputs": [
    {
     "data": {
      "text/plain": [
       "['../../../../data2/users/tanvid2/CS_imaging_project/Wing_Imaging/2021_12_7/m7_ventFW_full.nd2',\n",
       " '../../../../data2/users/tanvid2/CS_imaging_project/Wing_Imaging/2022_07_07/m12_ventHW_full.nd2',\n",
       " '../../../../data2/users/tanvid2/CS_imaging_project/Wing_Imaging/2022_02_07/m7_dorsFW_full.nd2',\n",
       " '../../../../data2/users/tanvid2/CS_imaging_project/Wing_Imaging/2022_07_20/m8_dorsFW_full.nd2',\n",
       " '../../../../data2/users/tanvid2/CS_imaging_project/Wing_Imaging/2022_02_05/m7_dorsFW_full.nd2',\n",
       " '../../../../data2/users/tanvid2/CS_imaging_project/Wing_Imaging/2022_03_08/m7_ventFW_full.nd2',\n",
       " '../../../../data2/users/tanvid2/CS_imaging_project/Wing_Imaging/2021_12_22/m6_ventFW_full.nd2',\n",
       " '../../../../data2/users/tanvid2/CS_imaging_project/Wing_Imaging/2022_06_05/m9_ventFW_full.nd2',\n",
       " '../../../../data2/users/tanvid2/CS_imaging_project/Wing_Imaging/2021_09_02/M2_ventFW_full.nd2',\n",
       " '../../../../data2/users/tanvid2/CS_imaging_project/Wing_Imaging/2021_09_17/M2_dorsFW_full.nd2',\n",
       " '../../../../data2/users/tanvid2/CS_imaging_project/Wing_Imaging/2022_07_05/m11_dorsHW_full.nd2',\n",
       " '../../../../data2/users/tanvid2/CS_imaging_project/Wing_Imaging/2022_08_17/m15_ventFW_full.nd2',\n",
       " '../../../../data2/users/tanvid2/CS_imaging_project/Wing_Imaging/2022_08_17/m15_dorsFW_full.nd2',\n",
       " '../../../../data2/users/tanvid2/CS_imaging_project/Wing_Imaging/2022-08-09 Laila/M14_ventFW_full.nd2',\n",
       " '../../../../data2/users/tanvid2/CS_imaging_project/Wing_Imaging/2022_05_29/m9_dorsFW_full.nd2',\n",
       " '../../../../data2/users/tanvid2/CS_imaging_project/Wing_Imaging/2021_09_03/M2_DorsFW_full.nd2',\n",
       " '../../../../data2/users/tanvid2/CS_imaging_project/Wing_Imaging/2022_07_18/m12left_dors_full.nd2',\n",
       " '../../../../data2/users/tanvid2/CS_imaging_project/Wing_Imaging/2022_07_18/m12left_vent_full.nd2',\n",
       " '../../../../data2/users/tanvid2/CS_imaging_project/Wing_Imaging/2022_03_22/m8_ventFW_full.nd2',\n",
       " '../../../../data2/users/tanvid2/CS_imaging_project/Wing_Imaging/2022_08_22 Abna/m18_ventFW_full.nd2',\n",
       " '../../../../data2/users/tanvid2/CS_imaging_project/Wing_Imaging/2022_08_22 Abna/m18_dorsFW_full.nd2',\n",
       " '../../../../data2/users/tanvid2/CS_imaging_project/Wing_Imaging/2021_09_20/m3_dorsHW_full.nd2',\n",
       " '../../../../data2/users/tanvid2/CS_imaging_project/Wing_Imaging/2022_06_30/m10_ventFW_full.nd2',\n",
       " '../../../../data2/users/tanvid2/CS_imaging_project/Wing_Imaging/2021_09_22/m3_dorsHW_full.nd2',\n",
       " '../../../../data2/users/tanvid2/CS_imaging_project/Wing_Imaging/2021_09_22/m3_ventHW_full.nd2',\n",
       " '../../../../data2/users/tanvid2/CS_imaging_project/Wing_Imaging/2021_11_21/m6_dorsFW_full.nd2',\n",
       " '../../../../data2/users/tanvid2/CS_imaging_project/Wing_Imaging/2021_11_30/m7_dorsFW_full.nd2',\n",
       " '../../../../data2/users/tanvid2/CS_imaging_project/Wing_Imaging/2022_08_05/m11_dorsHW_full.nd2',\n",
       " '../../../../data2/users/tanvid2/CS_imaging_project/Wing_Imaging/2022_08_05/m11_ventHW_full.nd2',\n",
       " '../../../../data2/users/tanvid2/CS_imaging_project/Wing_Imaging/2021_11_16/m6_ventFW_full.nd2',\n",
       " '../../../../data2/users/tanvid2/CS_imaging_project/Wing_Imaging/SEM Sample/m8_ventFW_full.nd2',\n",
       " '../../../../data2/users/tanvid2/CS_imaging_project/Wing_Imaging/2022-08-09 Katie/M14_ventFW_full.nd2',\n",
       " '../../../../data2/users/tanvid2/CS_imaging_project/Wing_Imaging/2022_05_22/m8_dorsFW_full.nd2',\n",
       " '../../../../data2/users/tanvid2/CS_imaging_project/Wing_Imaging/2022_08_01/m13_rightdorsHW_full.nd2',\n",
       " '../../../../data2/users/tanvid2/CS_imaging_project/Wing_Imaging/2022_08_01/m13_rightventHW_full.nd2',\n",
       " '../../../../data2/users/tanvid2/CS_imaging_project/Wing_Imaging/2022_07_25_Abna/m12right_vent_full.nd2',\n",
       " '../../../../data2/users/tanvid2/CS_imaging_project/Wing_Imaging/2022_07_25_Abna/m12right_dors_full.nd2',\n",
       " '../../../../data2/users/tanvid2/CS_imaging_project/Wing_Imaging/2022_07_28/m13_LEFTdorsHW_full.nd2',\n",
       " '../../../../data2/users/tanvid2/CS_imaging_project/Wing_Imaging/2022_07_19/m8_ventFW__full.nd2',\n",
       " '../../../../data2/users/tanvid2/CS_imaging_project/Wing_Imaging/2022_07_26/m13_leftventHW_full.nd2',\n",
       " '../../../../data2/users/tanvid2/CS_imaging_project/Wing_Imaging/2022-08-06/M9_ventFW_full.nd2',\n",
       " '../../../../data2/users/tanvid2/CS_imaging_project/Wing_Imaging/2022_07_14/m12_rightdorsHW_full.nd2',\n",
       " '../../../../data2/users/tanvid2/CS_imaging_project/Wing_Imaging/2022_07_14/m12_rightventHW_full.nd2',\n",
       " '../../../../data2/users/tanvid2/CS_imaging_project/Wing_Imaging/2021_09_16/m2_ventFW_full.nd2',\n",
       " '../../../../data2/users/tanvid2/CS_imaging_project/Wing_Imaging/2022_08_01_Laila/m13_rightventHW_full.nd2',\n",
       " '../../../../data2/users/tanvid2/CS_imaging_project/Wing_Imaging/2022_08_23 Abna/m16_dorsHW_full.nd2',\n",
       " '../../../../data2/users/tanvid2/CS_imaging_project/Wing_Imaging/2022_08_23 Abna/m16_ventHW_full.nd2',\n",
       " '../../../../data2/users/tanvid2/CS_imaging_project/Wing_Imaging/2022-08-16/m14_ventHW_full.nd2',\n",
       " '../../../../data2/users/tanvid2/CS_imaging_project/Wing_Imaging/2022_08_23/m15_ventHW_full.nd2',\n",
       " '../../../../data2/users/tanvid2/CS_imaging_project/Wing_Imaging/2022_08_23/m15_dorsHW_full.nd2',\n",
       " '../../../../data2/users/tanvid2/CS_imaging_project/Wing_Imaging/2022_08_26/m17_dorsHW_full.nd2',\n",
       " '../../../../data2/users/tanvid2/CS_imaging_project/Wing_Imaging/2022_08_26/m17_ventHW_full.nd2',\n",
       " '../../../../data2/users/tanvid2/CS_imaging_project/Wing_Imaging/2021_10_16/m4_dorsHW_full.nd2',\n",
       " '../../../../data2/users/tanvid2/CS_imaging_project/Wing_Imaging/2021_10_16/m4_ventHW_full.nd2',\n",
       " '../../../../data2/users/tanvid2/CS_imaging_project/Wing_Imaging/2022_08_04/M12_dorsFW_full.nd2',\n",
       " '../../../../data2/users/tanvid2/CS_imaging_project/Wing_Imaging/2021_08_13/M1_ventFW_full.nd2',\n",
       " '../../../../data2/users/tanvid2/CS_imaging_project/Wing_Imaging/2022_07_01 - Copy/m11_ventHW_full.nd2',\n",
       " '../../../../data2/users/tanvid2/CS_imaging_project/Wing_Imaging/2022_08_02/m13_rightdorstHW_full.nd2',\n",
       " '../../../../data2/users/tanvid2/CS_imaging_project/Wing_Imaging/2021_12_17/m8_ventFW_full.nd2',\n",
       " '../../../../data2/users/tanvid2/CS_imaging_project/Wing_Imaging/2021_08_11/M1_ventFW_full.nd2',\n",
       " '../../../../data2/users/tanvid2/CS_imaging_project/Wing_Imaging/2022_08_15/m12left_ventFW_full.nd2',\n",
       " '../../../../data2/users/tanvid2/CS_imaging_project/Wing_Imaging/2022_08_15/m12left_dorsFW_full.nd2',\n",
       " '../../../../data2/users/tanvid2/CS_imaging_project/Wing_Imaging/2022_08_19 Abna/m17_ventFW_full.nd2',\n",
       " '../../../../data2/users/tanvid2/CS_imaging_project/Wing_Imaging/2022_08_19 Abna/m17_dorsFW_full.nd2',\n",
       " '../../../../data2/users/tanvid2/CS_imaging_project/Wing_Imaging/2022_03_07/m7_dorsFW_full.nd2',\n",
       " '../../../../data2/users/tanvid2/CS_imaging_project/Wing_Imaging/2022_07_13/m12_leftdorsHW_full.nd2']"
      ]
     },
     "execution_count": 9,
     "metadata": {},
     "output_type": "execute_result"
    }
   ],
   "source": [
    "files"
   ]
  },
  {
   "cell_type": "code",
   "execution_count": 21,
   "id": "bf5d2cd1",
   "metadata": {},
   "outputs": [
    {
     "name": "stdout",
     "output_type": "stream",
     "text": [
      "array('d', [-21037.6, -21037.6, -21037.6, -21037.6, -21037.6]) array('d', [-2948.750000000002, -2948.750000000002, -2948.750000000002, -2948.750000000002, -2948.750000000002])\n"
     ]
    }
   ],
   "source": [
    "for f in files[0:1]:\n",
    "    \n",
    "    from nd2reader import ND2Reader\n",
    "    from nd2reader.raw_metadata import RawMetadata\n",
    "\n",
    "    # get label map\n",
    "    with ND2Reader(f) as images:\n",
    "        mp = images._parser._label_map\n",
    "\n",
    "    fh = open(f , 'rb')\n",
    "    test = RawMetadata(fh, mp).__dict__\n",
    "    y = RawMetadata(fh, mp).y_data\n",
    "    x = RawMetadata(fh, mp).x_data\n",
    "    \n",
    "    print(x, y)"
   ]
  },
  {
   "cell_type": "code",
   "execution_count": 66,
   "id": "02af0394",
   "metadata": {},
   "outputs": [],
   "source": [
    "from nd2reader.label_map import LabelMap\n",
    "from nd2reader.common import read_array\n",
    "import six\n",
    "\n",
    "with ND2Reader(f) as images:\n",
    "        mp = images._parser._label_map\n",
    "        test = mp._get_location(six.b(\"CustomData|X!\"))\n",
    "\n",
    "        fh = open(f , 'rb')\n",
    "        location  = read_array(fh, 'double' ,test)\n",
    "# test = LabelMap(fh._get_location(six.b(\"CustomData|X!\")))"
   ]
  },
  {
   "cell_type": "code",
   "execution_count": 62,
   "id": "0eb9071e",
   "metadata": {},
   "outputs": [],
   "source": [
    "location"
   ]
  },
  {
   "cell_type": "code",
   "execution_count": 67,
   "id": "213a7bd2",
   "metadata": {},
   "outputs": [
    {
     "data": {
      "text/plain": [
       "5167423488"
      ]
     },
     "execution_count": 67,
     "metadata": {},
     "output_type": "execute_result"
    }
   ],
   "source": [
    "test"
   ]
  },
  {
   "cell_type": "code",
   "execution_count": null,
   "id": "ae51cf40",
   "metadata": {},
   "outputs": [],
   "source": [
    "read_chunk(fh, chunk_location)\n",
    "read_array(self._fh, 'double', self._label_map.x_data)"
   ]
  }
 ],
 "metadata": {
  "kernelspec": {
   "display_name": "Python 3 (ipykernel)",
   "language": "python",
   "name": "python3"
  },
  "language_info": {
   "codemirror_mode": {
    "name": "ipython",
    "version": 3
   },
   "file_extension": ".py",
   "mimetype": "text/x-python",
   "name": "python",
   "nbconvert_exporter": "python",
   "pygments_lexer": "ipython3",
   "version": "3.7.3"
  }
 },
 "nbformat": 4,
 "nbformat_minor": 5
}
