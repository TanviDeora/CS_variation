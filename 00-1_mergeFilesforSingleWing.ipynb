{
 "cells": [
  {
   "cell_type": "code",
   "execution_count": 1,
   "id": "c1f95a62",
   "metadata": {},
   "outputs": [],
   "source": [
    "import os\n",
    "import glob\n",
    "import pandas as pd"
   ]
  },
  {
   "cell_type": "code",
   "execution_count": 2,
   "id": "84c3e9fb",
   "metadata": {},
   "outputs": [],
   "source": [
    "folder_with_xylocations = './dataFolder/Analysis/'"
   ]
  },
  {
   "cell_type": "code",
   "execution_count": 3,
   "id": "4a6e7932",
   "metadata": {},
   "outputs": [],
   "source": [
    "files = glob.glob(folder_with_xylocations + '*.csv')"
   ]
  },
  {
   "cell_type": "code",
   "execution_count": 4,
   "id": "1e398c2a",
   "metadata": {},
   "outputs": [
    {
     "data": {
      "text/plain": [
       "['./dataFolder/Analysis\\\\M2_dorsFW_allpoints.csv',\n",
       " './dataFolder/Analysis\\\\M2_dorsFW_cu1_10-11_&an1_1-4.csv',\n",
       " './dataFolder/Analysis\\\\M2_dorsFW_cu1_3-8.csv',\n",
       " './dataFolder/Analysis\\\\M2_dorsFW_cu1_6.csv',\n",
       " './dataFolder/Analysis\\\\M2_dorsFW_m1_1-6_&cu1_1-2.csv',\n",
       " './dataFolder/Analysis\\\\M2_dorsFW_R1_1-6.csv',\n",
       " './dataFolder/Analysis\\\\M2_dorsFW_zoomOut.csv',\n",
       " './dataFolder/Analysis\\\\m2_ventFW_all.csv',\n",
       " './dataFolder/Analysis\\\\m2_ventFW_zoomOut.csv',\n",
       " './dataFolder/Analysis\\\\m3_dorsHW_allpoints.csv',\n",
       " './dataFolder/Analysis\\\\m3_dorsHW_zoomOut.csv',\n",
       " './dataFolder/Analysis\\\\m3_ventHW_allpoints.csv',\n",
       " './dataFolder/Analysis\\\\m3_ventHW_zoomOut.csv',\n",
       " './dataFolder/Analysis\\\\m4_dorsHW_allpoints.csv',\n",
       " './dataFolder/Analysis\\\\m4_dorsHW_zoomOut.csv',\n",
       " './dataFolder/Analysis\\\\m4_ventHW_allpoints.csv',\n",
       " './dataFolder/Analysis\\\\m4_ventHW_zoomOut.csv',\n",
       " './dataFolder/Analysis\\\\m6_dorsFW_allpoints.csv',\n",
       " './dataFolder/Analysis\\\\m6_ventFW_allpoints.csv',\n",
       " './dataFolder/Analysis\\\\m7_dorsFW_an_1-m3_4.csv',\n",
       " './dataFolder/Analysis\\\\m7_dorsFW_m1_1-7.csv',\n",
       " './dataFolder/Analysis\\\\m7_dorsFW_m1_8-9.csv',\n",
       " './dataFolder/Analysis\\\\M7_ventFW_allpoints.csv',\n",
       " './dataFolder/Analysis\\\\m8_dorsFW_allpoints.csv']"
      ]
     },
     "execution_count": 4,
     "metadata": {},
     "output_type": "execute_result"
    }
   ],
   "source": [
    "files"
   ]
  },
  {
   "cell_type": "code",
   "execution_count": 5,
   "id": "0c80f989",
   "metadata": {},
   "outputs": [],
   "source": [
    "basenames = [os.path.basename(f) for f in files if 'zoomOut' not in f]"
   ]
  },
  {
   "cell_type": "code",
   "execution_count": 6,
   "id": "ba1cabab",
   "metadata": {},
   "outputs": [
    {
     "data": {
      "text/plain": [
       "['M2_dorsFW_allpoints.csv',\n",
       " 'M2_dorsFW_cu1_10-11_&an1_1-4.csv',\n",
       " 'M2_dorsFW_cu1_3-8.csv',\n",
       " 'M2_dorsFW_cu1_6.csv',\n",
       " 'M2_dorsFW_m1_1-6_&cu1_1-2.csv',\n",
       " 'M2_dorsFW_R1_1-6.csv',\n",
       " 'm2_ventFW_all.csv',\n",
       " 'm3_dorsHW_allpoints.csv',\n",
       " 'm3_ventHW_allpoints.csv',\n",
       " 'm4_dorsHW_allpoints.csv',\n",
       " 'm4_ventHW_allpoints.csv',\n",
       " 'm6_dorsFW_allpoints.csv',\n",
       " 'm6_ventFW_allpoints.csv',\n",
       " 'm7_dorsFW_an_1-m3_4.csv',\n",
       " 'm7_dorsFW_m1_1-7.csv',\n",
       " 'm7_dorsFW_m1_8-9.csv',\n",
       " 'M7_ventFW_allpoints.csv',\n",
       " 'm8_dorsFW_allpoints.csv']"
      ]
     },
     "execution_count": 6,
     "metadata": {},
     "output_type": "execute_result"
    }
   ],
   "source": [
    "basenames"
   ]
  },
  {
   "cell_type": "code",
   "execution_count": 9,
   "id": "f451c684",
   "metadata": {},
   "outputs": [
    {
     "data": {
      "text/html": [
       "<div>\n",
       "<style scoped>\n",
       "    .dataframe tbody tr th:only-of-type {\n",
       "        vertical-align: middle;\n",
       "    }\n",
       "\n",
       "    .dataframe tbody tr th {\n",
       "        vertical-align: top;\n",
       "    }\n",
       "\n",
       "    .dataframe thead th {\n",
       "        text-align: right;\n",
       "    }\n",
       "</style>\n",
       "<table border=\"1\" class=\"dataframe\">\n",
       "  <thead>\n",
       "    <tr style=\"text-align: right;\">\n",
       "      <th></th>\n",
       "      <th>basenames</th>\n",
       "      <th>moth</th>\n",
       "      <th>side</th>\n",
       "      <th>parts</th>\n",
       "    </tr>\n",
       "  </thead>\n",
       "  <tbody>\n",
       "    <tr>\n",
       "      <td>0</td>\n",
       "      <td>M2_dorsFW_allpoints.csv</td>\n",
       "      <td>M2</td>\n",
       "      <td>dorsFW</td>\n",
       "      <td>allpoints.csv</td>\n",
       "    </tr>\n",
       "    <tr>\n",
       "      <td>1</td>\n",
       "      <td>M2_dorsFW_cu1_10-11_&amp;an1_1-4.csv</td>\n",
       "      <td>M2</td>\n",
       "      <td>dorsFW</td>\n",
       "      <td>cu1_10-11_&amp;an1_1-4.csv</td>\n",
       "    </tr>\n",
       "    <tr>\n",
       "      <td>2</td>\n",
       "      <td>M2_dorsFW_cu1_3-8.csv</td>\n",
       "      <td>M2</td>\n",
       "      <td>dorsFW</td>\n",
       "      <td>cu1_3-8.csv</td>\n",
       "    </tr>\n",
       "    <tr>\n",
       "      <td>3</td>\n",
       "      <td>M2_dorsFW_cu1_6.csv</td>\n",
       "      <td>M2</td>\n",
       "      <td>dorsFW</td>\n",
       "      <td>cu1_6.csv</td>\n",
       "    </tr>\n",
       "    <tr>\n",
       "      <td>4</td>\n",
       "      <td>M2_dorsFW_m1_1-6_&amp;cu1_1-2.csv</td>\n",
       "      <td>M2</td>\n",
       "      <td>dorsFW</td>\n",
       "      <td>m1_1-6_&amp;cu1_1-2.csv</td>\n",
       "    </tr>\n",
       "    <tr>\n",
       "      <td>5</td>\n",
       "      <td>M2_dorsFW_R1_1-6.csv</td>\n",
       "      <td>M2</td>\n",
       "      <td>dorsFW</td>\n",
       "      <td>R1_1-6.csv</td>\n",
       "    </tr>\n",
       "    <tr>\n",
       "      <td>6</td>\n",
       "      <td>m2_ventFW_all.csv</td>\n",
       "      <td>m2</td>\n",
       "      <td>ventFW</td>\n",
       "      <td>all.csv</td>\n",
       "    </tr>\n",
       "    <tr>\n",
       "      <td>7</td>\n",
       "      <td>m3_dorsHW_allpoints.csv</td>\n",
       "      <td>m3</td>\n",
       "      <td>dorsHW</td>\n",
       "      <td>allpoints.csv</td>\n",
       "    </tr>\n",
       "    <tr>\n",
       "      <td>8</td>\n",
       "      <td>m3_ventHW_allpoints.csv</td>\n",
       "      <td>m3</td>\n",
       "      <td>ventHW</td>\n",
       "      <td>allpoints.csv</td>\n",
       "    </tr>\n",
       "    <tr>\n",
       "      <td>9</td>\n",
       "      <td>m4_dorsHW_allpoints.csv</td>\n",
       "      <td>m4</td>\n",
       "      <td>dorsHW</td>\n",
       "      <td>allpoints.csv</td>\n",
       "    </tr>\n",
       "    <tr>\n",
       "      <td>10</td>\n",
       "      <td>m4_ventHW_allpoints.csv</td>\n",
       "      <td>m4</td>\n",
       "      <td>ventHW</td>\n",
       "      <td>allpoints.csv</td>\n",
       "    </tr>\n",
       "    <tr>\n",
       "      <td>11</td>\n",
       "      <td>m6_dorsFW_allpoints.csv</td>\n",
       "      <td>m6</td>\n",
       "      <td>dorsFW</td>\n",
       "      <td>allpoints.csv</td>\n",
       "    </tr>\n",
       "    <tr>\n",
       "      <td>12</td>\n",
       "      <td>m6_ventFW_allpoints.csv</td>\n",
       "      <td>m6</td>\n",
       "      <td>ventFW</td>\n",
       "      <td>allpoints.csv</td>\n",
       "    </tr>\n",
       "    <tr>\n",
       "      <td>13</td>\n",
       "      <td>m7_dorsFW_an_1-m3_4.csv</td>\n",
       "      <td>m7</td>\n",
       "      <td>dorsFW</td>\n",
       "      <td>an_1-m3_4.csv</td>\n",
       "    </tr>\n",
       "    <tr>\n",
       "      <td>14</td>\n",
       "      <td>m7_dorsFW_m1_1-7.csv</td>\n",
       "      <td>m7</td>\n",
       "      <td>dorsFW</td>\n",
       "      <td>m1_1-7.csv</td>\n",
       "    </tr>\n",
       "    <tr>\n",
       "      <td>15</td>\n",
       "      <td>m7_dorsFW_m1_8-9.csv</td>\n",
       "      <td>m7</td>\n",
       "      <td>dorsFW</td>\n",
       "      <td>m1_8-9.csv</td>\n",
       "    </tr>\n",
       "    <tr>\n",
       "      <td>16</td>\n",
       "      <td>M7_ventFW_allpoints.csv</td>\n",
       "      <td>M7</td>\n",
       "      <td>ventFW</td>\n",
       "      <td>allpoints.csv</td>\n",
       "    </tr>\n",
       "    <tr>\n",
       "      <td>17</td>\n",
       "      <td>m8_dorsFW_allpoints.csv</td>\n",
       "      <td>m8</td>\n",
       "      <td>dorsFW</td>\n",
       "      <td>allpoints.csv</td>\n",
       "    </tr>\n",
       "  </tbody>\n",
       "</table>\n",
       "</div>"
      ],
      "text/plain": [
       "                           basenames moth    side                   parts\n",
       "0            M2_dorsFW_allpoints.csv   M2  dorsFW           allpoints.csv\n",
       "1   M2_dorsFW_cu1_10-11_&an1_1-4.csv   M2  dorsFW  cu1_10-11_&an1_1-4.csv\n",
       "2              M2_dorsFW_cu1_3-8.csv   M2  dorsFW             cu1_3-8.csv\n",
       "3                M2_dorsFW_cu1_6.csv   M2  dorsFW               cu1_6.csv\n",
       "4      M2_dorsFW_m1_1-6_&cu1_1-2.csv   M2  dorsFW     m1_1-6_&cu1_1-2.csv\n",
       "5               M2_dorsFW_R1_1-6.csv   M2  dorsFW              R1_1-6.csv\n",
       "6                  m2_ventFW_all.csv   m2  ventFW                 all.csv\n",
       "7            m3_dorsHW_allpoints.csv   m3  dorsHW           allpoints.csv\n",
       "8            m3_ventHW_allpoints.csv   m3  ventHW           allpoints.csv\n",
       "9            m4_dorsHW_allpoints.csv   m4  dorsHW           allpoints.csv\n",
       "10           m4_ventHW_allpoints.csv   m4  ventHW           allpoints.csv\n",
       "11           m6_dorsFW_allpoints.csv   m6  dorsFW           allpoints.csv\n",
       "12           m6_ventFW_allpoints.csv   m6  ventFW           allpoints.csv\n",
       "13           m7_dorsFW_an_1-m3_4.csv   m7  dorsFW           an_1-m3_4.csv\n",
       "14              m7_dorsFW_m1_1-7.csv   m7  dorsFW              m1_1-7.csv\n",
       "15              m7_dorsFW_m1_8-9.csv   m7  dorsFW              m1_8-9.csv\n",
       "16           M7_ventFW_allpoints.csv   M7  ventFW           allpoints.csv\n",
       "17           m8_dorsFW_allpoints.csv   m8  dorsFW           allpoints.csv"
      ]
     },
     "execution_count": 9,
     "metadata": {},
     "output_type": "execute_result"
    }
   ],
   "source": [
    "df = pd.DataFrame({'basenames': basenames})\n",
    "temp = df.basenames.str.split('_', n = 2, expand = True)\n",
    "df['moth'] = temp[0]\n",
    "df['side'] = temp[1]\n",
    "df['parts'] = temp[2]\n",
    "df"
   ]
  },
  {
   "cell_type": "code",
   "execution_count": 10,
   "id": "c1d1ea60",
   "metadata": {},
   "outputs": [
    {
     "name": "stdout",
     "output_type": "stream",
     "text": [
      "single file for ['M7_ventFW_allpoints.csv']\n",
      "single file for ['m2_ventFW_all.csv']\n",
      "single file for ['m3_dorsHW_allpoints.csv']\n",
      "single file for ['m3_ventHW_allpoints.csv']\n",
      "single file for ['m4_dorsHW_allpoints.csv']\n",
      "single file for ['m4_ventHW_allpoints.csv']\n",
      "single file for ['m6_dorsFW_allpoints.csv']\n",
      "single file for ['m6_ventFW_allpoints.csv']\n",
      "single file for ['m8_dorsFW_allpoints.csv']\n"
     ]
    },
    {
     "name": "stderr",
     "output_type": "stream",
     "text": [
      "C:\\Users\\Tanvi\\AppData\\Local\\Continuum\\anaconda3\\lib\\site-packages\\ipykernel_launcher.py:9: FutureWarning: Sorting because non-concatenation axis is not aligned. A future version\n",
      "of pandas will change to not sort by default.\n",
      "\n",
      "To accept the future behavior, pass 'sort=False'.\n",
      "\n",
      "To retain the current behavior and silence the warning, pass 'sort=True'.\n",
      "\n",
      "  if __name__ == '__main__':\n"
     ]
    }
   ],
   "source": [
    "for ff, sub in df.groupby('moth'):\n",
    "    for ss, now in sub.groupby('side'):\n",
    "        if len(now) > 1:\n",
    "            names = now.basenames\n",
    "            list_df = []\n",
    "            for n in names:\n",
    "                bla = pd.read_csv(folder_with_xylocations + n)\n",
    "                list_df.append(bla)\n",
    "            uber_df = pd.concat(list_df)\n",
    "            uber_df.to_csv(folder_with_xylocations + ff + '_' + ss + '_' + 'allpoints.csv')\n",
    "        else:\n",
    "            print('single file for %s' %now.basenames.values)"
   ]
  },
  {
   "cell_type": "code",
   "execution_count": null,
   "id": "b4eaffe3",
   "metadata": {},
   "outputs": [],
   "source": []
  }
 ],
 "metadata": {
  "kernelspec": {
   "display_name": "Python 3 (ipykernel)",
   "language": "python",
   "name": "python3"
  },
  "language_info": {
   "codemirror_mode": {
    "name": "ipython",
    "version": 3
   },
   "file_extension": ".py",
   "mimetype": "text/x-python",
   "name": "python",
   "nbconvert_exporter": "python",
   "pygments_lexer": "ipython3",
   "version": "3.7.3"
  }
 },
 "nbformat": 4,
 "nbformat_minor": 5
}
