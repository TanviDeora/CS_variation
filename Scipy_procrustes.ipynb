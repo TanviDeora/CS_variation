{
 "cells": [
  {
   "cell_type": "code",
   "execution_count": 1,
   "id": "a022869f",
   "metadata": {},
   "outputs": [],
   "source": [
    "import numpy as np\n",
    "import pandas as pd\n",
    "from scipy.spatial import procrustes"
   ]
  },
  {
   "cell_type": "code",
   "execution_count": 4,
   "id": "662ca2a4",
   "metadata": {},
   "outputs": [],
   "source": [
    "# get location matrices\n",
    "\n",
    "path = './dataFolder/procrustes/'\n",
    "\n",
    "before = pd.read_csv(path + 'Results_beforeRotation.csv')\n",
    "matrix_1 = before.loc[:,'X':'Y']\n",
    "after = pd.read_csv(path + 'Results_after15Rotation.csv')\n",
    "matrix_2 = after.loc[:, 'X':'Y']"
   ]
  },
  {
   "cell_type": "code",
   "execution_count": 6,
   "id": "ee6dadf5",
   "metadata": {},
   "outputs": [],
   "source": [
    "mtx1, mtx2, disparity = procrustes(matrix_1, matrix_2)"
   ]
  },
  {
   "cell_type": "code",
   "execution_count": 11,
   "id": "0abcb10f",
   "metadata": {},
   "outputs": [
    {
     "data": {
      "text/plain": [
       "array([[-0.31437322, -0.30448482],\n",
       "       [-0.00586574, -0.31378843],\n",
       "       [-0.00363287, -0.00490879],\n",
       "       [ 0.00430645,  0.31339874],\n",
       "       [ 0.33278543,  0.30471513],\n",
       "       [-0.3192111 ,  0.32853235],\n",
       "       [ 0.30599105, -0.32346417]])"
      ]
     },
     "execution_count": 11,
     "metadata": {},
     "output_type": "execute_result"
    }
   ],
   "source": [
    "mtx1"
   ]
  },
  {
   "cell_type": "code",
   "execution_count": 8,
   "id": "3ee84469",
   "metadata": {},
   "outputs": [
    {
     "data": {
      "text/plain": [
       "array([[-0.31377537, -0.30683352],\n",
       "       [-0.00325904, -0.31724066],\n",
       "       [-0.00260121,  0.00162006],\n",
       "       [ 0.00412631,  0.31426031],\n",
       "       [ 0.33156043,  0.30518214],\n",
       "       [-0.31746657,  0.32796671],\n",
       "       [ 0.30141546, -0.32495504]])"
      ]
     },
     "execution_count": 8,
     "metadata": {},
     "output_type": "execute_result"
    }
   ],
   "source": [
    "mtx2"
   ]
  },
  {
   "cell_type": "code",
   "execution_count": 9,
   "id": "55375249",
   "metadata": {},
   "outputs": [
    {
     "data": {
      "text/plain": [
       "9.729224902253031e-05"
      ]
     },
     "execution_count": 9,
     "metadata": {},
     "output_type": "execute_result"
    }
   ],
   "source": [
    "disparity"
   ]
  },
  {
   "cell_type": "code",
   "execution_count": 19,
   "id": "7a3bc2be",
   "metadata": {},
   "outputs": [],
   "source": [
    "matrix_1_inv = np.linalg.inv(matrix_1.values.T[:,0:2])"
   ]
  },
  {
   "cell_type": "code",
   "execution_count": 23,
   "id": "af3d0888",
   "metadata": {},
   "outputs": [
    {
     "ename": "ValueError",
     "evalue": "operands could not be broadcast together with shapes (2,7) (2,2) ",
     "output_type": "error",
     "traceback": [
      "\u001b[0;31m---------------------------------------------------------------------------\u001b[0m",
      "\u001b[0;31mValueError\u001b[0m                                Traceback (most recent call last)",
      "\u001b[0;32m/tmp/ipykernel_3043/1176143398.py\u001b[0m in \u001b[0;36m<module>\u001b[0;34m\u001b[0m\n\u001b[0;32m----> 1\u001b[0;31m \u001b[0mA\u001b[0m \u001b[0;34m=\u001b[0m \u001b[0mmtx1\u001b[0m\u001b[0;34m.\u001b[0m\u001b[0mT\u001b[0m\u001b[0;34m*\u001b[0m\u001b[0mmatrix_1_inv\u001b[0m\u001b[0;34m\u001b[0m\u001b[0;34m\u001b[0m\u001b[0m\n\u001b[0m",
      "\u001b[0;31mValueError\u001b[0m: operands could not be broadcast together with shapes (2,7) (2,2) "
     ]
    }
   ],
   "source": [
    "A = mtx1.T*matrix_1_inv"
   ]
  },
  {
   "cell_type": "code",
   "execution_count": 21,
   "id": "2ce97141",
   "metadata": {},
   "outputs": [
    {
     "data": {
      "text/plain": [
       "array([[-0.31437322, -0.30448482],\n",
       "       [-0.00586574, -0.31378843],\n",
       "       [-0.00363287, -0.00490879],\n",
       "       [ 0.00430645,  0.31339874],\n",
       "       [ 0.33278543,  0.30471513],\n",
       "       [-0.3192111 ,  0.32853235],\n",
       "       [ 0.30599105, -0.32346417]])"
      ]
     },
     "execution_count": 21,
     "metadata": {},
     "output_type": "execute_result"
    }
   ],
   "source": [
    "mtx1"
   ]
  },
  {
   "cell_type": "code",
   "execution_count": null,
   "id": "a72ea897",
   "metadata": {},
   "outputs": [],
   "source": []
  }
 ],
 "metadata": {
  "kernelspec": {
   "display_name": "Python 3",
   "language": "python",
   "name": "python3"
  },
  "language_info": {
   "codemirror_mode": {
    "name": "ipython",
    "version": 3
   },
   "file_extension": ".py",
   "mimetype": "text/x-python",
   "name": "python",
   "nbconvert_exporter": "python",
   "pygments_lexer": "ipython3",
   "version": "3.6.13"
  }
 },
 "nbformat": 4,
 "nbformat_minor": 5
}
